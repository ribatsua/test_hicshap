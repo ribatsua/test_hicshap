{
 "cells": [
  {
   "cell_type": "code",
   "execution_count": 2,
   "metadata": {},
   "outputs": [],
   "source": [
    "############################################################\n",
    "####\n",
    "#####由higahsi生成的原始的稀疏矩阵生成prebulk数据及bed文件作为dchic的输入\n",
    "#####\n",
    "##########################################################\n",
    "#############################################################\n",
    "#############################################################\n",
    "##################################################################\n",
    "##################################################################\n",
    "from Higashi_backend.utils import *\n",
    "from Higashi_analysis.Higashi_analysis import *\n",
    "import h5py\n",
    "from sklearn.preprocessing import MinMaxScaler, quantile_transform\n",
    "import os\n",
    "\n",
    "os.environ[\"OMP_NUM_THREADS\"] = \"10\"\n",
    "import pandas as pd\n",
    "import argparse\n",
    "import scipy.sparse\n",
    "from scipy.sparse import hstack,vstack\n",
    "import math\n",
    "\n",
    "config=get_config('/home/python/higashi/dataset2/cortex_250k_tmp/config_cellcycle.json')\n",
    "res = config['resolution']\n",
    "data_dir = config['data_dir']\n",
    "temp_dir = config['temp_dir']\n",
    "raw_dir = os.path.join(temp_dir, \"raw\")\n",
    "if 'cytoband_path' in config:\n",
    "\tcytoband_path = config['cytoband_path']\n",
    "else:\n",
    "\tcytoband_path = None\n",
    "neighbor_num = config['neighbor_num']\n",
    "embedding_name = config['embedding_name']\n",
    "\n",
    "chrom_list = config['impute_list']\n",
    "# chrom_list = ['chr1', 'chr2']\n",
    "chrom_list = np.array(chrom_list)\n",
    "\n",
    "\n",
    "################从基因组参考文件计算一定分辨率下各染色体bin的数量\n",
    "def create_bed(res):\n",
    "\n",
    "    file_path = '/home/python/higashi/dataset2/cortex/config/mm10.chrom.sizes.txt'  \n",
    "    with open(file_path, 'r') as file:\n",
    "        lines = file.readlines()\n",
    "    chromosome_bins = {}\n",
    "    max_lens = {}\n",
    "    # 特定分辨率\n",
    "    resolution = res # 请替换成你的分辨率\n",
    "    # 遍历文件中的每一行\n",
    "    for line in lines:\n",
    "        # 分割每一行的染色体和对应的长度\n",
    "        chromosome, length = line.strip().split('\\t')\n",
    "        \n",
    "        # 计算染色体对应的bin数量\n",
    "        # bin_count = int(length) // resolution\n",
    "        bin_count = math.ceil(int(length) / resolution)\n",
    "        \n",
    "        # 存储结果到字典中\n",
    "        chromosome_bins[chromosome] = bin_count\n",
    "        max_lens[chromosome] = int(length)\n",
    "    bin_chrom_list = []\n",
    "    bin_start_list = []\n",
    "    bin_end_list = []\n",
    "    for chrom in chromosome_bins:\n",
    "        bin_count = chromosome_bins[chrom]\n",
    "        bin_chrom_list+=[chrom]*bin_count\n",
    "        bin_start_list.extend((np.arange(bin_count) * res))\n",
    "        end=(np.arange(bin_count) + 1) * res\n",
    "        # print(len(end))\n",
    "        max_len=max_lens[chromosome]\n",
    "        end[bin_count-1]=max_len\n",
    "        # bin_end_list.extend(((np.arange(bin_count) + 1) * res))\n",
    "        bin_end_list.extend(end)\n",
    "        # print (chrom, \"finished\")\n",
    "        # print(chrom)\n",
    "        # print(bin_count)\n",
    "    index_list=np.arange(1,len(bin_chrom_list)+1)\n",
    "    df=pd.DataFrame()\n",
    "    df['chr']=bin_chrom_list\n",
    "    df['start']=bin_start_list\n",
    "    df['end']=bin_end_list\n",
    "    df['index']=index_list\n",
    "    bed_path='test_bed.bed'\n",
    "    df.to_csv(bed_path, sep='\\t', index=None, header=False, mode='w')\n",
    "    print(f\"bed file written to {bed_path}\")\n",
    "    return chromosome_bins\n",
    "\n",
    "\n",
    "def process_chrom(chrom,cell_type):\n",
    "# Get the raw sparse mtx list\n",
    "    origin_sparse = np.load(os.path.join(raw_dir, \"%s_sparse_adj.npy\" % chrom), allow_pickle=True)\n",
    "    size = origin_sparse[0].shape[0]\n",
    "    pre_bulk_list=[]\n",
    "    # sum_by_label=[]\n",
    "    a={}\n",
    "    b={}\n",
    "    # c={}\n",
    "    for j in list(set(cell_type)):\n",
    "        # print(j)\n",
    "        indices = [index for index, value in enumerate(cell_type) if value == j]\n",
    "        a[j]=indices\n",
    "        b[j] = np.zeros_like(np.array(origin_sparse[0]))\n",
    "        for i in a[j]:\n",
    "            proba = np.array(origin_sparse[i])    \n",
    "            b[j] +=proba\n",
    "        temp = np.array(b[j].item().todense())\n",
    "        temp=scipy.sparse.csr_matrix(temp)\n",
    "            # temp = b[j]\n",
    "        pre_bulk_list.append(temp)\n",
    "    return pre_bulk_list\n",
    "\n",
    "\n"
   ]
  },
  {
   "cell_type": "code",
   "execution_count": 3,
   "metadata": {},
   "outputs": [
    {
     "name": "stdout",
     "output_type": "stream",
     "text": [
      "chrom_list: ['chr1' 'chr2' 'chr3' 'chr4' 'chr5' 'chr6' 'chr7' 'chr8' 'chr9' 'chr10'\n",
      " 'chr11' 'chr12' 'chr13' 'chr14' 'chr15' 'chr16' 'chr17' 'chr18' 'chr19']\n",
      "bed file written to test_bed.bed\n",
      "chr1 finished\n",
      "chr2 finished\n",
      "chr3 finished\n",
      "chr4 finished\n",
      "chr5 finished\n",
      "chr6 finished\n",
      "chr7 finished\n",
      "chr8 finished\n",
      "chr9 finished\n",
      "chr10 finished\n",
      "chr11 finished\n",
      "chr12 finished\n",
      "chr13 finished\n",
      "chr14 finished\n",
      "chr15 finished\n",
      "chr16 finished\n",
      "chr17 finished\n",
      "chr18 finished\n",
      "chr19 finished\n"
     ]
    },
    {
     "name": "stderr",
     "output_type": "stream",
     "text": [
      " 17%|█▋        | 1/6 [00:11<00:55, 11.08s/it]"
     ]
    },
    {
     "name": "stdout",
     "output_type": "stream",
     "text": [
      "Data written to /home/python/higashi/dcpc/cortex_prebulk_from_sc_with_rep/cortex-p347-cb_250Kb.matrix\n"
     ]
    },
    {
     "name": "stderr",
     "output_type": "stream",
     "text": [
      " 33%|███▎      | 2/6 [00:21<00:42, 10.59s/it]"
     ]
    },
    {
     "name": "stdout",
     "output_type": "stream",
     "text": [
      "Data written to /home/python/higashi/dcpc/cortex_prebulk_from_sc_with_rep/cortex-p007-cb_250Kb.matrix\n"
     ]
    },
    {
     "name": "stderr",
     "output_type": "stream",
     "text": [
      " 50%|█████     | 3/6 [00:32<00:32, 10.94s/it]"
     ]
    },
    {
     "name": "stdout",
     "output_type": "stream",
     "text": [
      "Data written to /home/python/higashi/dcpc/cortex_prebulk_from_sc_with_rep/cortex-p001-cb_250Kb.matrix\n"
     ]
    },
    {
     "name": "stderr",
     "output_type": "stream",
     "text": [
      " 67%|██████▋   | 4/6 [00:45<00:23, 11.65s/it]"
     ]
    },
    {
     "name": "stdout",
     "output_type": "stream",
     "text": [
      "Data written to /home/python/higashi/dcpc/cortex_prebulk_from_sc_with_rep/cortex-p056-cb_250Kb.matrix\n"
     ]
    },
    {
     "name": "stderr",
     "output_type": "stream",
     "text": [
      " 83%|████████▎ | 5/6 [00:56<00:11, 11.54s/it]"
     ]
    },
    {
     "name": "stdout",
     "output_type": "stream",
     "text": [
      "Data written to /home/python/higashi/dcpc/cortex_prebulk_from_sc_with_rep/cortex-p309-cb_250Kb.matrix\n"
     ]
    },
    {
     "name": "stderr",
     "output_type": "stream",
     "text": [
      "100%|██████████| 6/6 [01:08<00:00, 11.41s/it]"
     ]
    },
    {
     "name": "stdout",
     "output_type": "stream",
     "text": [
      "Data written to /home/python/higashi/dcpc/cortex_prebulk_from_sc_with_rep/cortex-p0028-cb_250Kb.matrix\n"
     ]
    },
    {
     "name": "stderr",
     "output_type": "stream",
     "text": [
      "\n"
     ]
    }
   ],
   "source": [
    "from tqdm import tqdm\n",
    "output_dir='/home/python/higashi/dcpc/cortex_prebulk_from_sc_with_rep'\n",
    "print('chrom_list:',chrom_list)\n",
    "# with open('matrix_values.txt', 'w') as file:\n",
    "# cell_type_info=pickle.load(open(os.path.join(data_dir, \"label_info.pickle\"), \"rb\"))\n",
    "#使用重复样本标签\n",
    "\n",
    "cell_type_info=pickle.load(open('/home/python/higashi/notebook/cortex_label_info.pickle', \"rb\"))\n",
    "cell_type=cell_type_info['cell_type']\n",
    "cell_type_list=[]\n",
    "chromosome_bins=create_bed(res)\n",
    "for j in list(set(cell_type)):\n",
    "    cell_type_list.append(j)\n",
    "bin_count=0\n",
    "pre_bulk_raw=[]\n",
    "for chrom in chrom_list:\n",
    "    pre_bulk_list=process_chrom(chrom,cell_type)\n",
    "    print (chrom, \"finished\")\n",
    "    pre_bulk_list_unzip=[]\n",
    "    for bulk in pre_bulk_list:\n",
    "        rows, cols, values = scipy.sparse.find(bulk)\n",
    "        rows+=bin_count\n",
    "        cols+=bin_count\n",
    "        pre_bulk_list_unzip.append([cols,rows,values])\n",
    "        # pre_bulk_list_unzip.append(rows)\n",
    "        # pre_bulk_list_unzip.append(values)\n",
    "        # bulk.nonzero().row+=bin_count\n",
    "        # bulk.nonzero().col+=bin_count\n",
    "    bin_count += chromosome_bins[chrom] \n",
    "    pre_bulk_raw.append(pre_bulk_list_unzip)\n",
    "temp_bulk ={}\n",
    "for i in tqdm(range(len(pre_bulk_raw[0]))):\n",
    "    sample_name=cell_type_list[i]+'.matrix'\n",
    "    save_path=os.path.join(output_dir, sample_name)\n",
    "    # save_path=cell_type_list[i]+'_prebulk_mat.txt'   \n",
    "    temp_bulk[i]=[]\n",
    "    for j in range(len(pre_bulk_raw)):\n",
    "        # print('j,i',j,i)\n",
    "        temp_bulk[i].append(pre_bulk_raw[j][i])\n",
    "    temp_bulk[i]=np.column_stack([np.vstack(group) for group in temp_bulk[i]])\n",
    "    np.savetxt(save_path, temp_bulk[i].T, delimiter='\\t', fmt='%d')\n",
    "    print(f\"Data written to {save_path}\")\n",
    "\n",
    "\n",
    "\n",
    "\n",
    "\n",
    "\n",
    "\n",
    "\n",
    "#     pre_bulk_raw.append(pre_bulk_list)\n",
    "# data_bulk_raw=[]\n",
    "# temp_bulk={}\n",
    "\n",
    "# for i in range(len(pre_bulk_raw[0])):\n",
    "#     save_path=cell_type_list[i]+'_prebulk_mat.txt'\n",
    "#     with open(save_path, 'w') as file:\n",
    "#         temp_bulk[i]=[]\n",
    "#         for j in range(len(pre_bulk_raw)):\n",
    "#             print('j,i',j,i)\n",
    "#             temp_bulk[i].append(pre_bulk_raw[j][i])\n",
    "\n",
    "#         for matrix in temp_bulk[i]:\n",
    "#             for row, col, value in zip(*matrix.nonzero(), matrix.data):\n",
    "#                 file.write(f\"{row}\\t{col}\\t{value}\\n\")\n",
    "\n"
   ]
  },
  {
   "cell_type": "code",
   "execution_count": 15,
   "metadata": {},
   "outputs": [
    {
     "name": "stdout",
     "output_type": "stream",
     "text": [
      "1075\n",
      "bed file written to test_bed.bed\n",
      "6\n"
     ]
    }
   ],
   "source": [
    "cell_type_info=pickle.load(open('/home/python/higashi/notebook/cortex_label_info.pickle', \"rb\"))\n",
    "cell_type=cell_type_info['cell_type']\n",
    "cell_type_list=[]\n",
    "print(len(cell_type))\n",
    "chromosome_bins=create_bed(res)\n",
    "for j in list(set(cell_type)):\n",
    "    cell_type_list.append(j)\n",
    "print(len(cell_type_list))"
   ]
  },
  {
   "cell_type": "code",
   "execution_count": 282,
   "metadata": {},
   "outputs": [
    {
     "name": "stdout",
     "output_type": "stream",
     "text": [
      "782\n",
      "729\n",
      "685\n",
      "641\n",
      "627\n",
      "608\n",
      "599\n",
      "582\n",
      "523\n",
      "518\n",
      "500\n",
      "499\n",
      "489\n",
      "482\n",
      "481\n",
      "417\n",
      "393\n",
      "380\n",
      "367\n",
      "363\n",
      "246\n",
      "4\n",
      "2\n",
      "2\n",
      "1\n",
      "1\n",
      "1\n",
      "1\n",
      "1\n",
      "1\n",
      "1\n",
      "1\n",
      "1\n",
      "1\n",
      "1\n",
      "1\n",
      "1\n",
      "1\n",
      "1\n",
      "1\n",
      "1\n",
      "1\n",
      "1\n",
      "1\n",
      "1\n",
      "1\n",
      "1\n",
      "1\n",
      "1\n",
      "1\n",
      "1\n",
      "1\n",
      "1\n",
      "1\n",
      "1\n",
      "1\n",
      "1\n",
      "1\n",
      "1\n",
      "1\n",
      "1\n",
      "1\n",
      "1\n",
      "1\n",
      "1\n",
      "1\n"
     ]
    }
   ],
   "source": [
    "# file_path = '/home/python/higashi/dataset2/cortex/config/mm10.chrom.sizes.txt'  \n",
    "# with open(file_path, 'r') as file:\n",
    "#     lines = file.readlines()\n",
    "# chromosome_bins = {}\n",
    "# # 特定分辨率\n",
    "# resolution = res # 请替换成你的分辨率\n",
    "# max_len={}\n",
    "# # 遍历文件中的每一行\n",
    "# for line in lines:\n",
    "#     # 分割每一行的染色体和对应的长度\n",
    "#     chromosome, length = line.strip().split('\\t')\n",
    "    \n",
    "#     # 计算染色体对应的bin数量\n",
    "#     # bin_count = int(length) // resolution\n",
    "#     bin_count = math.ceil(int(length) / resolution)\n",
    "#     # print(bin_count)\n",
    "    \n",
    "#     # 存储结果到字典中\n",
    "#     chromosome_bins[chromosome] = bin_count\n",
    "#     max_len[chromosome]=int(length)\n"
   ]
  },
  {
   "cell_type": "code",
   "execution_count": 270,
   "metadata": {},
   "outputs": [
    {
     "data": {
      "text/plain": [
       "array(['chr1', 'chr2', 'chr3', 'chr4', 'chr5', 'chr6', 'chr7', 'chr8',\n",
       "       'chr9', 'chr10', 'chr11', 'chr12', 'chr13', 'chr14', 'chr15',\n",
       "       'chr16', 'chr17', 'chr18', 'chr19'], dtype='<U5')"
      ]
     },
     "execution_count": 270,
     "metadata": {},
     "output_type": "execute_result"
    }
   ],
   "source": [
    "chrom_list"
   ]
  },
  {
   "cell_type": "code",
   "execution_count": 286,
   "metadata": {},
   "outputs": [
    {
     "name": "stdout",
     "output_type": "stream",
     "text": [
      "chr1 finished\n",
      "chr2 finished\n",
      "chrX finished\n",
      "chr3 finished\n",
      "chr4 finished\n",
      "chr5 finished\n",
      "chr6 finished\n",
      "chr7 finished\n",
      "chr10 finished\n",
      "chr8 finished\n",
      "chr14 finished\n",
      "chr9 finished\n",
      "chr11 finished\n",
      "chr13 finished\n",
      "chr12 finished\n",
      "chr15 finished\n",
      "chr16 finished\n",
      "chr17 finished\n",
      "chrY finished\n",
      "chr18 finished\n",
      "chr19 finished\n",
      "chr5_JH584299_random finished\n",
      "chrX_GL456233_random finished\n",
      "chrY_JH584301_random finished\n",
      "chr1_GL456211_random finished\n",
      "chr4_GL456350_random finished\n",
      "chr4_JH584293_random finished\n",
      "chr1_GL456221_random finished\n",
      "chr5_JH584297_random finished\n",
      "chr5_JH584296_random finished\n",
      "chr5_GL456354_random finished\n",
      "chr4_JH584294_random finished\n",
      "chr5_JH584298_random finished\n",
      "chrY_JH584300_random finished\n",
      "chr7_GL456219_random finished\n",
      "chr1_GL456210_random finished\n",
      "chrY_JH584303_random finished\n",
      "chrY_JH584302_random finished\n",
      "chr1_GL456212_random finished\n",
      "chrUn_JH584304 finished\n",
      "chrUn_GL456379 finished\n",
      "chr4_GL456216_random finished\n",
      "chrUn_GL456393 finished\n",
      "chrUn_GL456366 finished\n",
      "chrUn_GL456367 finished\n",
      "chrUn_GL456239 finished\n",
      "chr1_GL456213_random finished\n",
      "chrUn_GL456383 finished\n",
      "chrUn_GL456385 finished\n",
      "chrUn_GL456360 finished\n",
      "chrUn_GL456378 finished\n",
      "chrUn_GL456389 finished\n",
      "chrUn_GL456372 finished\n",
      "chrUn_GL456370 finished\n",
      "chrUn_GL456381 finished\n",
      "chrUn_GL456387 finished\n",
      "chrUn_GL456390 finished\n",
      "chrUn_GL456394 finished\n",
      "chrUn_GL456392 finished\n",
      "chrUn_GL456382 finished\n",
      "chrUn_GL456359 finished\n",
      "chrUn_GL456396 finished\n",
      "chrUn_GL456368 finished\n",
      "chrM finished\n",
      "chr4_JH584292_random finished\n",
      "chr4_JH584295_random finished\n"
     ]
    }
   ],
   "source": [
    "\n",
    "# bin_chrom_list = []\n",
    "# bin_start_list = []\n",
    "# bin_end_list = []\n",
    "# for chrom in chromosome_bins:\n",
    "#     bin_count = chromosome_bins[chrom]\n",
    "#     bin_chrom_list+=[chrom]*bin_count\n",
    "#     bin_start_list.extend((np.arange(bin_count) * res))\n",
    "#     end=(np.arange(bin_count) + 1) * res\n",
    "#     # print(len(end))\n",
    "#     end[bin_count-1]=max_len[chrom]\n",
    "#     # bin_end_list.extend(((np.arange(bin_count) + 1) * res))\n",
    "#     bin_end_list.extend(end)\n",
    "#     # print (chrom, \"finished\")\n",
    "#     # print(chrom)\n",
    "#     # print(bin_count)\n",
    "# index_list=np.arange(1,len(bin_chrom_list)+1)\n",
    "# df=pd.DataFrame()\n",
    "# df['chr']=bin_chrom_list\n",
    "# df['start']=bin_start_list\n",
    "# df['end']=bin_end_list\n",
    "# df['index']=index_list\n",
    "# bed_path='test_bed.bed'\n",
    "# df.to_csv(bed_path, sep='\\t', index=None, header=False, mode='w')\n",
    "# print(f\"bed file written to {bed_path}\")\n",
    "\n",
    "\n"
   ]
  },
  {
   "cell_type": "code",
   "execution_count": 273,
   "metadata": {},
   "outputs": [
    {
     "data": {
      "text/plain": [
       "10961"
      ]
     },
     "execution_count": 273,
     "metadata": {},
     "output_type": "execute_result"
    }
   ],
   "source": [
    "len(bin_start_list)"
   ]
  },
  {
   "cell_type": "code",
   "execution_count": 252,
   "metadata": {},
   "outputs": [
    {
     "name": "stdout",
     "output_type": "stream",
     "text": [
      "1\n",
      "2\n",
      "3\n",
      "4\n",
      "5\n",
      "6\n",
      "7\n",
      "8\n",
      "9\n",
      "10\n",
      "11\n",
      "12\n",
      "13\n",
      "14\n",
      "15\n",
      "16\n",
      "17\n",
      "18\n",
      "19\n",
      "20\n",
      "21\n",
      "22\n",
      "23\n",
      "24\n",
      "25\n",
      "26\n",
      "27\n",
      "28\n",
      "29\n",
      "30\n",
      "31\n",
      "32\n",
      "33\n",
      "34\n",
      "35\n",
      "36\n",
      "37\n",
      "38\n",
      "39\n",
      "40\n",
      "41\n",
      "42\n",
      "43\n",
      "44\n",
      "45\n",
      "46\n",
      "47\n",
      "48\n",
      "49\n",
      "50\n",
      "51\n",
      "52\n",
      "53\n",
      "54\n",
      "55\n",
      "56\n",
      "57\n",
      "58\n",
      "59\n",
      "60\n",
      "61\n",
      "62\n",
      "63\n",
      "64\n",
      "65\n",
      "66\n",
      "67\n",
      "68\n",
      "69\n",
      "70\n",
      "71\n",
      "72\n",
      "73\n",
      "74\n",
      "75\n",
      "76\n",
      "77\n",
      "78\n",
      "79\n",
      "80\n",
      "81\n",
      "82\n",
      "83\n",
      "84\n",
      "85\n",
      "86\n",
      "87\n",
      "88\n",
      "89\n",
      "90\n",
      "91\n",
      "92\n",
      "93\n",
      "94\n",
      "95\n",
      "96\n",
      "97\n",
      "98\n",
      "99\n",
      "100\n",
      "101\n",
      "102\n",
      "103\n",
      "104\n",
      "105\n",
      "106\n",
      "107\n",
      "108\n",
      "109\n",
      "110\n",
      "111\n",
      "112\n",
      "113\n",
      "114\n",
      "115\n",
      "116\n",
      "117\n",
      "118\n",
      "119\n",
      "120\n",
      "121\n",
      "122\n",
      "123\n",
      "124\n",
      "125\n",
      "126\n",
      "127\n",
      "128\n",
      "129\n",
      "130\n",
      "131\n",
      "132\n",
      "133\n",
      "134\n",
      "135\n",
      "136\n",
      "137\n",
      "138\n",
      "139\n",
      "140\n",
      "141\n",
      "142\n",
      "143\n",
      "144\n",
      "145\n",
      "146\n",
      "147\n",
      "148\n",
      "149\n",
      "150\n",
      "151\n",
      "152\n",
      "153\n",
      "154\n",
      "155\n",
      "156\n",
      "157\n",
      "158\n",
      "159\n",
      "160\n",
      "161\n",
      "162\n",
      "163\n",
      "164\n",
      "165\n",
      "166\n",
      "167\n",
      "168\n",
      "169\n",
      "170\n",
      "171\n",
      "172\n",
      "173\n",
      "174\n",
      "175\n",
      "176\n",
      "177\n",
      "178\n",
      "179\n",
      "180\n",
      "181\n",
      "182\n",
      "183\n",
      "184\n",
      "185\n",
      "186\n",
      "187\n",
      "188\n",
      "189\n",
      "190\n",
      "191\n",
      "192\n",
      "193\n",
      "194\n",
      "195\n",
      "196\n",
      "197\n",
      "198\n",
      "199\n",
      "200\n",
      "201\n",
      "202\n",
      "203\n",
      "204\n",
      "205\n",
      "206\n",
      "207\n",
      "208\n",
      "209\n",
      "210\n",
      "211\n",
      "212\n",
      "213\n",
      "214\n",
      "215\n",
      "216\n",
      "217\n",
      "218\n",
      "219\n",
      "220\n",
      "221\n",
      "222\n",
      "223\n",
      "224\n",
      "225\n",
      "226\n",
      "227\n",
      "228\n",
      "229\n",
      "230\n",
      "231\n",
      "232\n",
      "233\n",
      "234\n",
      "235\n",
      "236\n",
      "237\n",
      "238\n",
      "239\n",
      "240\n",
      "241\n",
      "242\n",
      "243\n",
      "244\n",
      "245\n",
      "246\n",
      "247\n",
      "248\n",
      "249\n",
      "250\n",
      "251\n",
      "252\n",
      "253\n",
      "254\n",
      "255\n",
      "256\n",
      "257\n",
      "258\n",
      "259\n",
      "260\n",
      "261\n",
      "262\n",
      "263\n",
      "264\n",
      "265\n",
      "266\n",
      "267\n",
      "268\n",
      "269\n",
      "270\n",
      "271\n",
      "272\n",
      "273\n",
      "274\n",
      "275\n",
      "276\n",
      "277\n",
      "278\n",
      "279\n",
      "280\n",
      "281\n",
      "282\n",
      "283\n",
      "284\n",
      "285\n",
      "286\n",
      "287\n",
      "288\n",
      "289\n",
      "290\n",
      "291\n",
      "292\n",
      "293\n",
      "294\n",
      "295\n",
      "296\n",
      "297\n",
      "298\n",
      "299\n",
      "300\n",
      "301\n",
      "302\n",
      "303\n",
      "304\n",
      "305\n",
      "306\n",
      "307\n",
      "308\n",
      "309\n",
      "310\n",
      "311\n",
      "312\n",
      "313\n",
      "314\n",
      "315\n",
      "316\n",
      "317\n",
      "318\n",
      "319\n",
      "320\n",
      "321\n",
      "322\n",
      "323\n",
      "324\n",
      "325\n",
      "326\n",
      "327\n",
      "328\n",
      "329\n",
      "330\n",
      "331\n",
      "332\n",
      "333\n",
      "334\n",
      "335\n",
      "336\n",
      "337\n",
      "338\n",
      "339\n",
      "340\n",
      "341\n",
      "342\n",
      "343\n",
      "344\n",
      "345\n",
      "346\n",
      "347\n",
      "348\n",
      "349\n",
      "350\n",
      "351\n",
      "352\n",
      "353\n",
      "354\n",
      "355\n",
      "356\n",
      "357\n",
      "358\n",
      "359\n",
      "360\n",
      "361\n",
      "362\n",
      "363\n",
      "364\n",
      "365\n",
      "366\n",
      "367\n",
      "368\n",
      "369\n",
      "370\n",
      "371\n",
      "372\n",
      "373\n",
      "374\n",
      "375\n",
      "376\n",
      "377\n",
      "378\n",
      "379\n",
      "380\n",
      "381\n",
      "382\n",
      "383\n",
      "384\n",
      "385\n",
      "386\n",
      "387\n",
      "388\n",
      "389\n",
      "390\n",
      "391\n",
      "392\n",
      "393\n",
      "394\n",
      "395\n",
      "396\n",
      "397\n",
      "398\n",
      "399\n",
      "400\n",
      "401\n",
      "402\n",
      "403\n",
      "404\n",
      "405\n",
      "406\n",
      "407\n",
      "408\n",
      "409\n",
      "410\n",
      "411\n",
      "412\n",
      "413\n",
      "414\n",
      "415\n",
      "416\n",
      "417\n",
      "418\n",
      "419\n",
      "420\n",
      "421\n",
      "422\n",
      "423\n",
      "424\n",
      "425\n",
      "426\n",
      "427\n",
      "428\n",
      "429\n",
      "430\n",
      "431\n",
      "432\n",
      "433\n",
      "434\n",
      "435\n",
      "436\n",
      "437\n",
      "438\n",
      "439\n",
      "440\n",
      "441\n",
      "442\n",
      "443\n",
      "444\n",
      "445\n",
      "446\n",
      "447\n",
      "448\n",
      "449\n",
      "450\n",
      "451\n",
      "452\n",
      "453\n",
      "454\n",
      "455\n",
      "456\n",
      "457\n",
      "458\n",
      "459\n",
      "460\n",
      "461\n",
      "462\n",
      "463\n",
      "464\n",
      "465\n",
      "466\n",
      "467\n",
      "468\n",
      "469\n",
      "470\n",
      "471\n",
      "472\n",
      "473\n",
      "474\n",
      "475\n",
      "476\n",
      "477\n",
      "478\n",
      "479\n",
      "480\n",
      "481\n",
      "482\n",
      "483\n",
      "484\n",
      "485\n",
      "486\n",
      "487\n",
      "488\n",
      "489\n",
      "490\n",
      "491\n",
      "492\n",
      "493\n",
      "494\n",
      "495\n",
      "496\n",
      "497\n",
      "498\n",
      "499\n",
      "500\n",
      "501\n",
      "502\n",
      "503\n",
      "504\n",
      "505\n",
      "506\n",
      "507\n",
      "508\n",
      "509\n",
      "510\n",
      "511\n",
      "512\n",
      "513\n",
      "514\n",
      "515\n",
      "516\n",
      "517\n",
      "518\n",
      "519\n",
      "520\n",
      "521\n",
      "522\n",
      "523\n",
      "524\n",
      "525\n",
      "526\n",
      "527\n",
      "528\n",
      "529\n",
      "530\n",
      "531\n",
      "532\n",
      "533\n",
      "534\n",
      "535\n",
      "536\n",
      "537\n",
      "538\n",
      "539\n",
      "540\n",
      "541\n",
      "542\n",
      "543\n",
      "544\n",
      "545\n",
      "546\n",
      "547\n",
      "548\n",
      "549\n",
      "550\n",
      "551\n",
      "552\n",
      "553\n",
      "554\n",
      "555\n",
      "556\n",
      "557\n",
      "558\n",
      "559\n",
      "560\n",
      "561\n",
      "562\n",
      "563\n",
      "564\n",
      "565\n",
      "566\n",
      "567\n",
      "568\n",
      "569\n",
      "570\n",
      "571\n",
      "572\n",
      "573\n",
      "574\n",
      "575\n",
      "576\n",
      "577\n",
      "578\n",
      "579\n",
      "580\n",
      "581\n",
      "582\n",
      "583\n",
      "584\n",
      "585\n",
      "586\n",
      "587\n",
      "588\n",
      "589\n",
      "590\n",
      "591\n",
      "592\n",
      "593\n",
      "594\n",
      "595\n",
      "596\n",
      "597\n",
      "598\n",
      "599\n",
      "600\n",
      "601\n",
      "602\n",
      "603\n",
      "604\n",
      "605\n",
      "606\n",
      "607\n",
      "608\n",
      "609\n",
      "610\n",
      "611\n",
      "612\n",
      "613\n",
      "614\n",
      "615\n",
      "616\n",
      "617\n",
      "618\n",
      "619\n",
      "620\n",
      "621\n",
      "622\n",
      "623\n",
      "624\n",
      "625\n",
      "626\n",
      "627\n",
      "628\n",
      "629\n",
      "630\n",
      "631\n",
      "632\n",
      "633\n",
      "634\n",
      "635\n",
      "636\n",
      "637\n",
      "638\n",
      "639\n",
      "640\n",
      "641\n",
      "642\n",
      "643\n",
      "644\n",
      "645\n",
      "646\n",
      "647\n",
      "648\n",
      "649\n",
      "650\n",
      "651\n",
      "652\n",
      "653\n",
      "654\n",
      "655\n",
      "656\n",
      "657\n",
      "658\n",
      "659\n",
      "660\n",
      "661\n",
      "662\n",
      "663\n",
      "664\n",
      "665\n",
      "666\n",
      "667\n",
      "668\n",
      "669\n",
      "670\n",
      "671\n",
      "672\n",
      "673\n",
      "674\n",
      "675\n",
      "676\n",
      "677\n",
      "678\n",
      "679\n",
      "680\n",
      "681\n",
      "682\n",
      "683\n",
      "684\n",
      "685\n",
      "686\n",
      "687\n",
      "688\n",
      "689\n",
      "690\n",
      "691\n",
      "692\n",
      "693\n",
      "694\n",
      "695\n",
      "696\n",
      "697\n",
      "698\n",
      "699\n",
      "700\n",
      "701\n",
      "702\n",
      "703\n",
      "704\n",
      "705\n",
      "706\n",
      "707\n",
      "708\n",
      "709\n",
      "710\n",
      "711\n",
      "712\n",
      "713\n",
      "714\n",
      "715\n",
      "716\n",
      "717\n",
      "718\n",
      "719\n",
      "720\n",
      "721\n",
      "722\n",
      "723\n",
      "724\n",
      "725\n",
      "726\n",
      "727\n",
      "728\n",
      "729\n",
      "730\n",
      "731\n",
      "732\n",
      "733\n",
      "734\n",
      "735\n",
      "736\n",
      "737\n",
      "738\n",
      "739\n",
      "740\n",
      "741\n",
      "742\n",
      "743\n",
      "744\n",
      "745\n",
      "746\n",
      "747\n",
      "748\n",
      "749\n",
      "750\n",
      "751\n",
      "752\n",
      "753\n",
      "754\n",
      "755\n",
      "756\n",
      "757\n",
      "758\n",
      "759\n",
      "760\n",
      "761\n",
      "762\n",
      "763\n",
      "764\n",
      "765\n",
      "766\n",
      "767\n",
      "768\n",
      "769\n",
      "770\n",
      "771\n",
      "772\n",
      "773\n",
      "774\n",
      "775\n",
      "776\n",
      "777\n",
      "778\n",
      "779\n",
      "780\n",
      "781\n",
      "782\n"
     ]
    }
   ],
   "source": [
    "for i in range(1,783):\n",
    "    print(i)"
   ]
  },
  {
   "cell_type": "code",
   "execution_count": 285,
   "metadata": {},
   "outputs": [
    {
     "data": {
      "text/plain": [
       "array([1, 2, 3, 4])"
      ]
     },
     "execution_count": 285,
     "metadata": {},
     "output_type": "execute_result"
    }
   ],
   "source": [
    "index_list=np.arange(1,5)\n",
    "index_list"
   ]
  },
  {
   "cell_type": "code",
   "execution_count": 276,
   "metadata": {},
   "outputs": [
    {
     "data": {
      "text/plain": [
       "array([   0, 1000, 2000, 3000])"
      ]
     },
     "execution_count": 276,
     "metadata": {},
     "output_type": "execute_result"
    }
   ],
   "source": [
    "a=np.arange(4)*1000\n",
    "a"
   ]
  },
  {
   "cell_type": "code",
   "execution_count": 277,
   "metadata": {},
   "outputs": [],
   "source": [
    "a[3]=5"
   ]
  },
  {
   "cell_type": "code",
   "execution_count": 278,
   "metadata": {},
   "outputs": [
    {
     "data": {
      "text/plain": [
       "array([   0, 1000, 2000,    5])"
      ]
     },
     "execution_count": 278,
     "metadata": {},
     "output_type": "execute_result"
    }
   ],
   "source": [
    "a"
   ]
  },
  {
   "cell_type": "code",
   "execution_count": 259,
   "metadata": {},
   "outputs": [
    {
     "data": {
      "text/plain": [
       "array([  1000,   2000,   3000,   4000,   5000,   6000,   7000,   8000,\n",
       "         9000,  10000,  11000,  12000,  13000,  14000,  15000,  16000,\n",
       "        17000,  18000,  19000,  20000,  21000,  22000,  23000,  24000,\n",
       "        25000,  26000,  27000,  28000,  29000,  30000,  31000,  32000,\n",
       "        33000,  34000,  35000,  36000,  37000,  38000,  39000,  40000,\n",
       "        41000,  42000,  43000,  44000,  45000,  46000,  47000,  48000,\n",
       "        49000,  50000,  51000,  52000,  53000,  54000,  55000,  56000,\n",
       "        57000,  58000,  59000,  60000,  61000,  62000,  63000,  64000,\n",
       "        65000,  66000,  67000,  68000,  69000,  70000,  71000,  72000,\n",
       "        73000,  74000,  75000,  76000,  77000,  78000,  79000,  80000,\n",
       "        81000,  82000,  83000,  84000,  85000,  86000,  87000,  88000,\n",
       "        89000,  90000,  91000,  92000,  93000,  94000,  95000,  96000,\n",
       "        97000,  98000,  99000, 100000, 101000, 102000, 103000, 104000,\n",
       "       105000, 106000, 107000, 108000, 109000, 110000, 111000, 112000,\n",
       "       113000, 114000, 115000, 116000, 117000, 118000, 119000, 120000,\n",
       "       121000, 122000, 123000, 124000, 125000, 126000, 127000, 128000,\n",
       "       129000, 130000, 131000, 132000, 133000, 134000, 135000, 136000,\n",
       "       137000, 138000, 139000, 140000, 141000, 142000, 143000, 144000,\n",
       "       145000, 146000, 147000, 148000, 149000, 150000, 151000, 152000,\n",
       "       153000, 154000, 155000, 156000, 157000, 158000, 159000, 160000,\n",
       "       161000, 162000, 163000, 164000, 165000, 166000, 167000, 168000,\n",
       "       169000, 170000, 171000, 172000, 173000, 174000, 175000, 176000,\n",
       "       177000, 178000, 179000, 180000, 181000, 182000, 183000, 184000,\n",
       "       185000, 186000, 187000, 188000, 189000, 190000, 191000, 192000,\n",
       "       193000, 194000, 195000, 196000, 197000, 198000, 199000, 200000,\n",
       "       201000, 202000, 203000, 204000, 205000, 206000, 207000, 208000,\n",
       "       209000, 210000, 211000, 212000, 213000, 214000, 215000, 216000,\n",
       "       217000, 218000, 219000, 220000, 221000, 222000, 223000, 224000,\n",
       "       225000, 226000, 227000, 228000, 229000, 230000, 231000, 232000,\n",
       "       233000, 234000, 235000, 236000, 237000, 238000, 239000, 240000,\n",
       "       241000, 242000, 243000, 244000, 245000, 246000, 247000, 248000,\n",
       "       249000, 250000, 251000, 252000, 253000, 254000, 255000, 256000,\n",
       "       257000, 258000, 259000, 260000, 261000, 262000, 263000, 264000,\n",
       "       265000, 266000, 267000, 268000, 269000, 270000, 271000, 272000,\n",
       "       273000, 274000, 275000, 276000, 277000, 278000, 279000, 280000,\n",
       "       281000, 282000, 283000, 284000, 285000, 286000, 287000, 288000,\n",
       "       289000, 290000, 291000, 292000, 293000, 294000, 295000, 296000,\n",
       "       297000, 298000, 299000, 300000, 301000, 302000, 303000, 304000,\n",
       "       305000, 306000, 307000, 308000, 309000, 310000, 311000, 312000,\n",
       "       313000, 314000, 315000, 316000, 317000, 318000, 319000, 320000,\n",
       "       321000, 322000, 323000, 324000, 325000, 326000, 327000, 328000,\n",
       "       329000, 330000, 331000, 332000, 333000, 334000, 335000, 336000,\n",
       "       337000, 338000, 339000, 340000, 341000, 342000, 343000, 344000,\n",
       "       345000, 346000, 347000, 348000, 349000, 350000, 351000, 352000,\n",
       "       353000, 354000, 355000, 356000, 357000, 358000, 359000, 360000,\n",
       "       361000, 362000, 363000, 364000, 365000, 366000, 367000, 368000,\n",
       "       369000, 370000, 371000, 372000, 373000, 374000, 375000, 376000,\n",
       "       377000, 378000, 379000, 380000, 381000, 382000, 383000, 384000,\n",
       "       385000, 386000, 387000, 388000, 389000, 390000, 391000, 392000,\n",
       "       393000, 394000, 395000, 396000, 397000, 398000, 399000, 400000,\n",
       "       401000, 402000, 403000, 404000, 405000, 406000, 407000, 408000,\n",
       "       409000, 410000, 411000, 412000, 413000, 414000, 415000, 416000,\n",
       "       417000, 418000, 419000, 420000, 421000, 422000, 423000, 424000,\n",
       "       425000, 426000, 427000, 428000, 429000, 430000, 431000, 432000,\n",
       "       433000, 434000, 435000, 436000, 437000, 438000, 439000, 440000,\n",
       "       441000, 442000, 443000, 444000, 445000, 446000, 447000, 448000,\n",
       "       449000, 450000, 451000, 452000, 453000, 454000, 455000, 456000,\n",
       "       457000, 458000, 459000, 460000, 461000, 462000, 463000, 464000,\n",
       "       465000, 466000, 467000, 468000, 469000, 470000, 471000, 472000,\n",
       "       473000, 474000, 475000, 476000, 477000, 478000, 479000, 480000,\n",
       "       481000, 482000, 483000, 484000, 485000, 486000, 487000, 488000,\n",
       "       489000, 490000, 491000, 492000, 493000, 494000, 495000, 496000,\n",
       "       497000, 498000, 499000, 500000, 501000, 502000, 503000, 504000,\n",
       "       505000, 506000, 507000, 508000, 509000, 510000, 511000, 512000,\n",
       "       513000, 514000, 515000, 516000, 517000, 518000, 519000, 520000,\n",
       "       521000, 522000, 523000, 524000, 525000, 526000, 527000, 528000,\n",
       "       529000, 530000, 531000, 532000, 533000, 534000, 535000, 536000,\n",
       "       537000, 538000, 539000, 540000, 541000, 542000, 543000, 544000,\n",
       "       545000, 546000, 547000, 548000, 549000, 550000, 551000, 552000,\n",
       "       553000, 554000, 555000, 556000, 557000, 558000, 559000, 560000,\n",
       "       561000, 562000, 563000, 564000, 565000, 566000, 567000, 568000,\n",
       "       569000, 570000, 571000, 572000, 573000, 574000, 575000, 576000,\n",
       "       577000, 578000, 579000, 580000, 581000, 582000, 583000, 584000,\n",
       "       585000, 586000, 587000, 588000, 589000, 590000, 591000, 592000,\n",
       "       593000, 594000, 595000, 596000, 597000, 598000, 599000, 600000,\n",
       "       601000, 602000, 603000, 604000, 605000, 606000, 607000, 608000,\n",
       "       609000, 610000, 611000, 612000, 613000, 614000, 615000, 616000,\n",
       "       617000, 618000, 619000, 620000, 621000, 622000, 623000, 624000,\n",
       "       625000, 626000, 627000, 628000, 629000, 630000, 631000, 632000,\n",
       "       633000, 634000, 635000, 636000, 637000, 638000, 639000, 640000,\n",
       "       641000, 642000, 643000, 644000, 645000, 646000, 647000, 648000,\n",
       "       649000, 650000, 651000, 652000, 653000, 654000, 655000, 656000,\n",
       "       657000, 658000, 659000, 660000, 661000, 662000, 663000, 664000,\n",
       "       665000, 666000, 667000, 668000, 669000, 670000, 671000, 672000,\n",
       "       673000, 674000, 675000, 676000, 677000, 678000, 679000, 680000,\n",
       "       681000, 682000, 683000, 684000, 685000, 686000, 687000, 688000,\n",
       "       689000, 690000, 691000, 692000, 693000, 694000, 695000, 696000,\n",
       "       697000, 698000, 699000, 700000, 701000, 702000, 703000, 704000,\n",
       "       705000, 706000, 707000, 708000, 709000, 710000, 711000, 712000,\n",
       "       713000, 714000, 715000, 716000, 717000, 718000, 719000, 720000,\n",
       "       721000, 722000, 723000, 724000, 725000, 726000, 727000, 728000,\n",
       "       729000, 730000, 731000, 732000, 733000, 734000, 735000, 736000,\n",
       "       737000, 738000, 739000, 740000, 741000, 742000, 743000, 744000,\n",
       "       745000, 746000, 747000, 748000, 749000, 750000, 751000, 752000,\n",
       "       753000, 754000, 755000, 756000, 757000, 758000, 759000, 760000,\n",
       "       761000, 762000, 763000, 764000, 765000, 766000, 767000, 768000,\n",
       "       769000, 770000, 771000, 772000, 773000, 774000, 775000, 776000,\n",
       "       777000, 778000, 779000, 780000, 781000])"
      ]
     },
     "execution_count": 259,
     "metadata": {},
     "output_type": "execute_result"
    }
   ],
   "source": [
    "a=np.arange(1,782)*1000\n",
    "a\n"
   ]
  },
  {
   "cell_type": "code",
   "execution_count": null,
   "metadata": {},
   "outputs": [],
   "source": []
  },
  {
   "cell_type": "code",
   "execution_count": 238,
   "metadata": {},
   "outputs": [],
   "source": [
    "a=[]\n",
    "a.append(pre_bulk_raw[0][1])\n",
    "a.append(pre_bulk_raw[0][2])\n",
    "a= np.column_stack([np.vstack(group) for group in a])\n",
    "# b=np.concatenate(a)"
   ]
  },
  {
   "cell_type": "code",
   "execution_count": 239,
   "metadata": {},
   "outputs": [
    {
     "data": {
      "text/plain": [
       "array([[  12.,   12.,   12., ...,  781.,  781.,  781.],\n",
       "       [  12.,   13.,   14., ...,  779.,  780.,  781.],\n",
       "       [7912., 3804., 1960., ...,   96.,  932., 1388.]])"
      ]
     },
     "execution_count": 239,
     "metadata": {},
     "output_type": "execute_result"
    }
   ],
   "source": [
    "a"
   ]
  },
  {
   "cell_type": "code",
   "execution_count": 135,
   "metadata": {},
   "outputs": [
    {
     "data": {
      "text/plain": [
       "{0: [<782x782 sparse matrix of type '<class 'numpy.float32'>'\n",
       "  \twith 497258 stored elements in Compressed Sparse Row format>,\n",
       "  <729x729 sparse matrix of type '<class 'numpy.float32'>'\n",
       "  \twith 424834 stored elements in Compressed Sparse Row format>],\n",
       " 1: [<782x782 sparse matrix of type '<class 'numpy.float32'>'\n",
       "  \twith 531546 stored elements in Compressed Sparse Row format>,\n",
       "  <729x729 sparse matrix of type '<class 'numpy.float32'>'\n",
       "  \twith 435806 stored elements in Compressed Sparse Row format>],\n",
       " 2: [<782x782 sparse matrix of type '<class 'numpy.float32'>'\n",
       "  \twith 503676 stored elements in Compressed Sparse Row format>,\n",
       "  <729x729 sparse matrix of type '<class 'numpy.float32'>'\n",
       "  \twith 425912 stored elements in Compressed Sparse Row format>]}"
      ]
     },
     "execution_count": 135,
     "metadata": {},
     "output_type": "execute_result"
    }
   ],
   "source": [
    "temp_bulk"
   ]
  },
  {
   "cell_type": "code",
   "execution_count": 117,
   "metadata": {},
   "outputs": [
    {
     "data": {
      "text/plain": [
       "scipy.sparse.csr.csr_matrix"
      ]
     },
     "execution_count": 117,
     "metadata": {},
     "output_type": "execute_result"
    }
   ],
   "source": [
    "type(pre_bulk_list[0])"
   ]
  },
  {
   "cell_type": "code",
   "execution_count": 120,
   "metadata": {},
   "outputs": [
    {
     "name": "stdout",
     "output_type": "stream",
     "text": [
      "3\n"
     ]
    }
   ],
   "source": [
    "print(len(pre_bulk_raw[0]))"
   ]
  },
  {
   "cell_type": "code",
   "execution_count": 116,
   "metadata": {},
   "outputs": [
    {
     "data": {
      "text/plain": [
       "scipy.sparse.csr.csr_matrix"
      ]
     },
     "execution_count": 116,
     "metadata": {},
     "output_type": "execute_result"
    }
   ],
   "source": [
    "type(pre_bulk_raw[0][0])"
   ]
  },
  {
   "cell_type": "code",
   "execution_count": 107,
   "metadata": {},
   "outputs": [
    {
     "data": {
      "text/plain": [
       "[<782x2346 sparse matrix of type '<class 'numpy.float32'>'\n",
       " \twith 1532480 stored elements in COOrdinate format>,\n",
       " <729x2187 sparse matrix of type '<class 'numpy.float32'>'\n",
       " \twith 1286552 stored elements in COOrdinate format>]"
      ]
     },
     "execution_count": 107,
     "metadata": {},
     "output_type": "execute_result"
    }
   ],
   "source": [
    "data_bulk_raw"
   ]
  },
  {
   "cell_type": "code",
   "execution_count": 99,
   "metadata": {},
   "outputs": [
    {
     "data": {
      "text/plain": [
       "array([<782x782 sparse matrix of type '<class 'numpy.float32'>'\n",
       "       \twith 497258 stored elements in Compressed Sparse Row format>,\n",
       "       <782x782 sparse matrix of type '<class 'numpy.float32'>'\n",
       "       \twith 531546 stored elements in Compressed Sparse Row format>,\n",
       "       <782x782 sparse matrix of type '<class 'numpy.float32'>'\n",
       "       \twith 503676 stored elements in Compressed Sparse Row format>,\n",
       "       <729x729 sparse matrix of type '<class 'numpy.float32'>'\n",
       "       \twith 424834 stored elements in Compressed Sparse Row format>,\n",
       "       <729x729 sparse matrix of type '<class 'numpy.float32'>'\n",
       "       \twith 435806 stored elements in Compressed Sparse Row format>,\n",
       "       <729x729 sparse matrix of type '<class 'numpy.float32'>'\n",
       "       \twith 425912 stored elements in Compressed Sparse Row format>],\n",
       "      dtype=object)"
      ]
     },
     "execution_count": 99,
     "metadata": {},
     "output_type": "execute_result"
    }
   ],
   "source": []
  },
  {
   "cell_type": "code",
   "execution_count": 118,
   "metadata": {},
   "outputs": [
    {
     "name": "stdout",
     "output_type": "stream",
     "text": [
      "0\n",
      "1\n",
      "2\n"
     ]
    }
   ],
   "source": [
    "for i in range(3):\n",
    "    print(i)"
   ]
  },
  {
   "cell_type": "code",
   "execution_count": 102,
   "metadata": {},
   "outputs": [
    {
     "data": {
      "text/plain": [
       "[[<782x782 sparse matrix of type '<class 'numpy.float32'>'\n",
       "  \twith 497258 stored elements in Compressed Sparse Row format>,\n",
       "  <782x782 sparse matrix of type '<class 'numpy.float32'>'\n",
       "  \twith 531546 stored elements in Compressed Sparse Row format>,\n",
       "  <782x782 sparse matrix of type '<class 'numpy.float32'>'\n",
       "  \twith 503676 stored elements in Compressed Sparse Row format>],\n",
       " [<729x729 sparse matrix of type '<class 'numpy.float32'>'\n",
       "  \twith 424834 stored elements in Compressed Sparse Row format>,\n",
       "  <729x729 sparse matrix of type '<class 'numpy.float32'>'\n",
       "  \twith 435806 stored elements in Compressed Sparse Row format>,\n",
       "  <729x729 sparse matrix of type '<class 'numpy.float32'>'\n",
       "  \twith 425912 stored elements in Compressed Sparse Row format>]]"
      ]
     },
     "execution_count": 102,
     "metadata": {},
     "output_type": "execute_result"
    }
   ],
   "source": [
    "pre_bulk_raw"
   ]
  },
  {
   "cell_type": "code",
   "execution_count": 89,
   "metadata": {},
   "outputs": [],
   "source": [
    "a_mat=scipy.sparse.csr_matrix(pre_bulk_list[0])"
   ]
  },
  {
   "cell_type": "code",
   "execution_count": 90,
   "metadata": {},
   "outputs": [
    {
     "data": {
      "text/plain": [
       "scipy.sparse.csr.csr_matrix"
      ]
     },
     "execution_count": 90,
     "metadata": {},
     "output_type": "execute_result"
    }
   ],
   "source": [
    "type(a_mat)"
   ]
  },
  {
   "cell_type": "code",
   "execution_count": 94,
   "metadata": {},
   "outputs": [
    {
     "data": {
      "text/plain": [
       "424834"
      ]
     },
     "execution_count": 94,
     "metadata": {},
     "output_type": "execute_result"
    }
   ],
   "source": [
    "len(a_mat.nonzero()[0])"
   ]
  },
  {
   "cell_type": "code",
   "execution_count": 12,
   "metadata": {},
   "outputs": [],
   "source": [
    "import scipy.sparse"
   ]
  },
  {
   "cell_type": "code",
   "execution_count": 28,
   "metadata": {},
   "outputs": [
    {
     "data": {
      "text/plain": [
       "(729, 729)"
      ]
     },
     "execution_count": 28,
     "metadata": {},
     "output_type": "execute_result"
    }
   ],
   "source": [
    "origin_sparse[4].shape"
   ]
  },
  {
   "cell_type": "code",
   "execution_count": 23,
   "metadata": {},
   "outputs": [
    {
     "data": {
      "text/plain": [
       "(729, 729)"
      ]
     },
     "execution_count": 23,
     "metadata": {},
     "output_type": "execute_result"
    }
   ],
   "source": [
    "pre_bulk_list[2].shape"
   ]
  },
  {
   "cell_type": "code",
   "execution_count": 13,
   "metadata": {},
   "outputs": [],
   "source": [
    "test_mat=scipy.sparse.csr_matrix(pre_bulk_list[0])"
   ]
  },
  {
   "cell_type": "code",
   "execution_count": 22,
   "metadata": {},
   "outputs": [
    {
     "name": "stdout",
     "output_type": "stream",
     "text": [
      "  (12, 12)\t7688.0\n",
      "  (12, 13)\t4084.0\n",
      "  (12, 14)\t386.0\n",
      "  (12, 15)\t308.0\n",
      "  (12, 16)\t172.0\n",
      "  (12, 17)\t140.0\n",
      "  (12, 18)\t162.0\n",
      "  (12, 19)\t180.0\n",
      "  (12, 20)\t24.0\n",
      "  (12, 21)\t32.0\n",
      "  (12, 22)\t44.0\n",
      "  (12, 23)\t14.0\n",
      "  (12, 24)\t26.0\n",
      "  (12, 25)\t14.0\n",
      "  (12, 26)\t22.0\n",
      "  (12, 27)\t10.0\n",
      "  (12, 28)\t18.0\n",
      "  (12, 29)\t6.0\n",
      "  (12, 30)\t16.0\n",
      "  (12, 31)\t20.0\n",
      "  (12, 32)\t10.0\n",
      "  (12, 33)\t12.0\n",
      "  (12, 34)\t10.0\n",
      "  (12, 35)\t10.0\n",
      "  (12, 36)\t20.0\n",
      "  :\t:\n",
      "  (728, 669)\t4.0\n",
      "  (728, 670)\t4.0\n",
      "  (728, 675)\t2.0\n",
      "  (728, 679)\t2.0\n",
      "  (728, 680)\t2.0\n",
      "  (728, 687)\t2.0\n",
      "  (728, 689)\t2.0\n",
      "  (728, 692)\t2.0\n",
      "  (728, 707)\t2.0\n",
      "  (728, 708)\t4.0\n",
      "  (728, 710)\t2.0\n",
      "  (728, 711)\t4.0\n",
      "  (728, 713)\t2.0\n",
      "  (728, 715)\t6.0\n",
      "  (728, 716)\t2.0\n",
      "  (728, 719)\t2.0\n",
      "  (728, 720)\t4.0\n",
      "  (728, 721)\t4.0\n",
      "  (728, 722)\t2.0\n",
      "  (728, 723)\t4.0\n",
      "  (728, 724)\t14.0\n",
      "  (728, 725)\t14.0\n",
      "  (728, 726)\t40.0\n",
      "  (728, 727)\t378.0\n",
      "  (728, 728)\t122.0\n"
     ]
    }
   ],
   "source": [
    "print(test_mat)"
   ]
  },
  {
   "cell_type": "code",
   "execution_count": 29,
   "metadata": {},
   "outputs": [],
   "source": [
    "bulk1 = np.array(np.sum(origin_sparse, axis=0))"
   ]
  },
  {
   "cell_type": "code",
   "execution_count": null,
   "metadata": {},
   "outputs": [],
   "source": []
  },
  {
   "cell_type": "code",
   "execution_count": 74,
   "metadata": {},
   "outputs": [
    {
     "data": {
      "text/plain": [
       "(246, 246)"
      ]
     },
     "execution_count": 74,
     "metadata": {},
     "output_type": "execute_result"
    }
   ],
   "source": [
    "chrom='chr2'\n",
    "# Get the raw sparse mtx list\n",
    "origin_sparse = np.load(os.path.join(raw_dir, \"%s_sparse_adj.npy\" % chrom), allow_pickle=True)\n",
    "type(origin_sparse[0])"
   ]
  },
  {
   "cell_type": "code",
   "execution_count": 72,
   "metadata": {},
   "outputs": [
    {
     "ename": "AttributeError",
     "evalue": "row not found",
     "output_type": "error",
     "traceback": [
      "\u001b[0;31m---------------------------------------------------------------------------\u001b[0m",
      "\u001b[0;31mAttributeError\u001b[0m                            Traceback (most recent call last)",
      "\u001b[1;32m/home/python/higashi/Higashi-main/higashi/sc_to_prebulk.ipynb 单元格 9\u001b[0m line \u001b[0;36m1\n\u001b[0;32m----> <a href='vscode-notebook-cell://attached-container%2B7b22636f6e7461696e65724e616d65223a222f68696370726f227d/home/python/higashi/Higashi-main/higashi/sc_to_prebulk.ipynb#X22sdnNjb2RlLXJlbW90ZQ%3D%3D?line=0'>1</a>\u001b[0m \u001b[39mprint\u001b[39m((bulk1\u001b[39m.\u001b[39;49mitem())\u001b[39m.\u001b[39;49mrow)\n",
      "File \u001b[0;32m/usr/local/anaconda/envs/higashi/lib/python3.9/site-packages/scipy/sparse/base.py:687\u001b[0m, in \u001b[0;36mspmatrix.__getattr__\u001b[0;34m(self, attr)\u001b[0m\n\u001b[1;32m    685\u001b[0m     \u001b[39mreturn\u001b[39;00m \u001b[39mself\u001b[39m\u001b[39m.\u001b[39mgetnnz()\n\u001b[1;32m    686\u001b[0m \u001b[39melse\u001b[39;00m:\n\u001b[0;32m--> 687\u001b[0m     \u001b[39mraise\u001b[39;00m \u001b[39mAttributeError\u001b[39;00m(attr \u001b[39m+\u001b[39m \u001b[39m\"\u001b[39m\u001b[39m not found\u001b[39m\u001b[39m\"\u001b[39m)\n",
      "\u001b[0;31mAttributeError\u001b[0m: row not found"
     ]
    }
   ],
   "source": [
    "print((bulk1.item()).row)"
   ]
  },
  {
   "cell_type": "code",
   "execution_count": 66,
   "metadata": {},
   "outputs": [
    {
     "name": "stdout",
     "output_type": "stream",
     "text": [
      "  (12, 12)\t26912.0\n",
      "  (12, 13)\t10456.0\n",
      "  (12, 14)\t1184.0\n",
      "  (12, 15)\t854.0\n",
      "  (12, 16)\t516.0\n",
      "  (12, 17)\t424.0\n",
      "  (12, 18)\t498.0\n",
      "  (12, 19)\t466.0\n",
      "  (12, 20)\t160.0\n",
      "  (12, 21)\t128.0\n",
      "  (12, 22)\t132.0\n",
      "  (12, 23)\t134.0\n",
      "  (12, 24)\t216.0\n",
      "  (12, 25)\t152.0\n",
      "  (12, 26)\t122.0\n",
      "  (12, 27)\t114.0\n",
      "  (12, 28)\t76.0\n",
      "  (12, 29)\t86.0\n",
      "  (12, 30)\t52.0\n",
      "  (12, 31)\t68.0\n",
      "  (12, 32)\t80.0\n",
      "  (12, 33)\t72.0\n",
      "  (12, 34)\t80.0\n",
      "  (12, 35)\t82.0\n",
      "  (12, 36)\t92.0\n",
      "  :\t:\n",
      "  (728, 697)\t10.0\n",
      "  (728, 698)\t6.0\n",
      "  (728, 699)\t10.0\n",
      "  (728, 706)\t2.0\n",
      "  (728, 707)\t2.0\n",
      "  (728, 708)\t10.0\n",
      "  (728, 709)\t16.0\n",
      "  (728, 710)\t16.0\n",
      "  (728, 711)\t12.0\n",
      "  (728, 712)\t10.0\n",
      "  (728, 713)\t6.0\n",
      "  (728, 715)\t20.0\n",
      "  (728, 716)\t12.0\n",
      "  (728, 717)\t6.0\n",
      "  (728, 718)\t6.0\n",
      "  (728, 719)\t6.0\n",
      "  (728, 720)\t10.0\n",
      "  (728, 721)\t18.0\n",
      "  (728, 722)\t14.0\n",
      "  (728, 723)\t24.0\n",
      "  (728, 724)\t20.0\n",
      "  (728, 725)\t38.0\n",
      "  (728, 726)\t124.0\n",
      "  (728, 727)\t950.0\n",
      "  (728, 728)\t430.0\n"
     ]
    }
   ],
   "source": [
    "print(bulk1)"
   ]
  },
  {
   "cell_type": "code",
   "execution_count": 36,
   "metadata": {},
   "outputs": [
    {
     "data": {
      "text/plain": [
       "5"
      ]
     },
     "execution_count": 36,
     "metadata": {},
     "output_type": "execute_result"
    }
   ],
   "source": [
    "a_list=[['chr']*5,['chr']*6,['chr']*9]\n",
    "\n",
    "len(a_list[0])"
   ]
  },
  {
   "cell_type": "code",
   "execution_count": 38,
   "metadata": {},
   "outputs": [],
   "source": [
    "bin_list=[]\n",
    "for a in a_list:\n",
    "    # print(a)\n",
    "    length = len(a)\n",
    "    bin_list.append((np.arange(length)).astype('int'))\n",
    "    # bin_chrom_list += [chrom] * len(use_rows)\n",
    "    # bin_start_list.append((np.arange(length) * res).astype('int')[use_rows])\n",
    "    # bin_end_list.append(((np.arange(length) + 1) * res).astype('int')[use_rows])\n",
    "    # bulk_cp_all.append(bulk_compartment)"
   ]
  },
  {
   "cell_type": "code",
   "execution_count": 40,
   "metadata": {},
   "outputs": [],
   "source": [
    "data=np.concatenate(bin_list)"
   ]
  },
  {
   "cell_type": "code",
   "execution_count": 41,
   "metadata": {},
   "outputs": [
    {
     "data": {
      "text/plain": [
       "array([0, 1, 2, 3, 4, 0, 1, 2, 3, 4, 5, 0, 1, 2, 3, 4, 5, 6, 7, 8])"
      ]
     },
     "execution_count": 41,
     "metadata": {},
     "output_type": "execute_result"
    }
   ],
   "source": [
    "data"
   ]
  },
  {
   "cell_type": "code",
   "execution_count": 62,
   "metadata": {},
   "outputs": [
    {
     "name": "stdout",
     "output_type": "stream",
     "text": [
      "chr1 782\n",
      "chr2 1511\n",
      "chr3 2152\n",
      "chr4 2779\n",
      "chr5 3387\n",
      "chr6 3986\n",
      "chr7 4568\n",
      "chr8 5086\n",
      "chr9 5585\n",
      "chr10 6108\n",
      "chr11 6597\n",
      "chr12 7078\n",
      "chr13 7560\n",
      "chr14 8060\n",
      "chr15 8477\n",
      "chr16 8870\n",
      "chr17 9250\n",
      "chr18 9613\n",
      "chr19 9859\n"
     ]
    }
   ],
   "source": [
    "bin_list=[]\n",
    "size=0\n",
    "for chrom in chrom_list:\n",
    "    origin_sparse= np.load(os.path.join(raw_dir, \"%s_sparse_adj.npy\" % chrom), allow_pickle=True)\n",
    "    size += origin_sparse[0].shape[0]\n",
    "    print(chrom,size)\n",
    "    bin_list.append((np.arange(size)+1).astype('int'))\n",
    "\n",
    "bin_all=np.concatenate(bin_list)   \n",
    "\n",
    "    "
   ]
  },
  {
   "cell_type": "code",
   "execution_count": 63,
   "metadata": {},
   "outputs": [
    {
     "data": {
      "text/plain": [
       "array([   1,    2,    3, ..., 9857, 9858, 9859])"
      ]
     },
     "execution_count": 63,
     "metadata": {},
     "output_type": "execute_result"
    }
   ],
   "source": [
    "bin_all"
   ]
  },
  {
   "cell_type": "code",
   "execution_count": 39,
   "metadata": {},
   "outputs": [
    {
     "data": {
      "text/plain": [
       "[array([0, 1, 2, 3, 4]),\n",
       " array([0, 1, 2, 3, 4, 5]),\n",
       " array([0, 1, 2, 3, 4, 5, 6, 7, 8])]"
      ]
     },
     "execution_count": 39,
     "metadata": {},
     "output_type": "execute_result"
    }
   ],
   "source": [
    "bin_list"
   ]
  }
 ],
 "metadata": {
  "kernelspec": {
   "display_name": "higashi",
   "language": "python",
   "name": "python3"
  },
  "language_info": {
   "codemirror_mode": {
    "name": "ipython",
    "version": 3
   },
   "file_extension": ".py",
   "mimetype": "text/x-python",
   "name": "python",
   "nbconvert_exporter": "python",
   "pygments_lexer": "ipython3",
   "version": "3.9.0"
  }
 },
 "nbformat": 4,
 "nbformat_minor": 2
}
