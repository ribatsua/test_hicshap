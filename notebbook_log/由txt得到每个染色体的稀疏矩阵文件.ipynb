{
 "cells": [
  {
   "cell_type": "code",
   "execution_count": 28,
   "metadata": {},
   "outputs": [
    {
     "name": "stdout",
     "output_type": "stream",
     "text": [
      "/home/python/higashi/cool/contacts_map_250k/cortex/cortex_p1/cortex_p1_1/chr1.txt\n",
      "/home/python/higashi/cool/contacts_map_250k/cortex/cortex_p1/cortex_p1_2/chr1.txt\n",
      "/home/python/higashi/cool/contacts_map_250k/cortex/cortex_p1/cortex_p1_3/chr1.txt\n",
      "/home/python/higashi/cool/contacts_map_250k/cortex/cortex_p1/cortex_p1_4/chr1.txt\n",
      "/home/python/higashi/cool/contacts_map_250k/cortex/cortex_p1/cortex_p1_5/chr1.txt\n",
      "/home/python/higashi/cool/contacts_map_250k/cortex/cortex_p1/cortex_p1_6/chr1.txt\n",
      "/home/python/higashi/cool/contacts_map_250k/cortex/cortex_p1/cortex_p1_7/chr1.txt\n",
      "/home/python/higashi/cool/contacts_map_250k/cortex/cortex_p1/cortex_p1_8/chr1.txt\n",
      "/home/python/higashi/cool/contacts_map_250k/cortex/cortex_p1/cortex_p1_9/chr1.txt\n",
      "/home/python/higashi/cool/contacts_map_250k/cortex/cortex_p1/cortex_p1_10/chr1.txt\n",
      "/home/python/higashi/cool/contacts_map_250k/cortex/cortex_p1/cortex_p1_11/chr1.txt\n",
      "/home/python/higashi/cool/contacts_map_250k/cortex/cortex_p1/cortex_p1_12/chr1.txt\n",
      "/home/python/higashi/cool/contacts_map_250k/cortex/cortex_p1/cortex_p1_14/chr1.txt\n",
      "/home/python/higashi/cool/contacts_map_250k/cortex/cortex_p1/cortex_p1_16/chr1.txt\n",
      "/home/python/higashi/cool/contacts_map_250k/cortex/cortex_p1/cortex_p1_17/chr1.txt\n",
      "/home/python/higashi/cool/contacts_map_250k/cortex/cortex_p1/cortex_p1_19/chr1.txt\n",
      "/home/python/higashi/cool/contacts_map_250k/cortex/cortex_p1/cortex_p1_20/chr1.txt\n",
      "/home/python/higashi/cool/contacts_map_250k/cortex/cortex_p1/cortex_p1_21/chr1.txt\n",
      "/home/python/higashi/cool/contacts_map_250k/cortex/cortex_p1/cortex_p1_22/chr1.txt\n",
      "/home/python/higashi/cool/contacts_map_250k/cortex/cortex_p1/cortex_p1_23/chr1.txt\n",
      "/home/python/higashi/cool/contacts_map_250k/cortex/cortex_p1/cortex_p1_25/chr1.txt\n",
      "/home/python/higashi/cool/contacts_map_250k/cortex/cortex_p1/cortex_p1_26/chr1.txt\n",
      "/home/python/higashi/cool/contacts_map_250k/cortex/cortex_p1/cortex_p1_28/chr1.txt\n",
      "/home/python/higashi/cool/contacts_map_250k/cortex/cortex_p1/cortex_p1_29/chr1.txt\n",
      "/home/python/higashi/cool/contacts_map_250k/cortex/cortex_p1/cortex_p1_30/chr1.txt\n",
      "/home/python/higashi/cool/contacts_map_250k/cortex/cortex_p1/cortex_p1_34/chr1.txt\n",
      "/home/python/higashi/cool/contacts_map_250k/cortex/cortex_p1/cortex_p1_35/chr1.txt\n",
      "/home/python/higashi/cool/contacts_map_250k/cortex/cortex_p1/cortex_p1_36/chr1.txt\n",
      "/home/python/higashi/cool/contacts_map_250k/cortex/cortex_p1/cortex_p1_37/chr1.txt\n",
      "/home/python/higashi/cool/contacts_map_250k/cortex/cortex_p1/cortex_p1_38/chr1.txt\n",
      "/home/python/higashi/cool/contacts_map_250k/cortex/cortex_p1/cortex_p1_41/chr1.txt\n",
      "/home/python/higashi/cool/contacts_map_250k/cortex/cortex_p1/cortex_p1_42/chr1.txt\n",
      "/home/python/higashi/cool/contacts_map_250k/cortex/cortex_p1/cortex_p1_44/chr1.txt\n",
      "/home/python/higashi/cool/contacts_map_250k/cortex/cortex_p1/cortex_p1_45/chr1.txt\n",
      "/home/python/higashi/cool/contacts_map_250k/cortex/cortex_p1/cortex_p1_46/chr1.txt\n",
      "/home/python/higashi/cool/contacts_map_250k/cortex/cortex_p1/cortex_p1_47/chr1.txt\n",
      "/home/python/higashi/cool/contacts_map_250k/cortex/cortex_p1/cortex_p1_48/chr1.txt\n",
      "/home/python/higashi/cool/contacts_map_250k/cortex/cortex_p1/cortex_p1_56/chr1.txt\n",
      "/home/python/higashi/cool/contacts_map_250k/cortex/cortex_p1/cortex_p1_57/chr1.txt\n",
      "/home/python/higashi/cool/contacts_map_250k/cortex/cortex_p1/cortex_p1_59/chr1.txt\n",
      "/home/python/higashi/cool/contacts_map_250k/cortex/cortex_p1/cortex_p1_60/chr1.txt\n",
      "/home/python/higashi/cool/contacts_map_250k/cortex/cortex_p1/cortex_p1_67/chr1.txt\n",
      "/home/python/higashi/cool/contacts_map_250k/cortex/cortex_p1/cortex_p1_68/chr1.txt\n",
      "/home/python/higashi/cool/contacts_map_250k/cortex/cortex_p1/cortex_p1_69/chr1.txt\n",
      "/home/python/higashi/cool/contacts_map_250k/cortex/cortex_p1/cortex_p1_70/chr1.txt\n",
      "/home/python/higashi/cool/contacts_map_250k/cortex/cortex_p1/cortex_p1_71/chr1.txt\n",
      "/home/python/higashi/cool/contacts_map_250k/cortex/cortex_p1/cortex_p1_72/chr1.txt\n",
      "/home/python/higashi/cool/contacts_map_250k/cortex/cortex_p1/cortex_p1_82/chr1.txt\n",
      "/home/python/higashi/cool/contacts_map_250k/cortex/cortex_p1/cortex_p1_83/chr1.txt\n",
      "/home/python/higashi/cool/contacts_map_250k/cortex/cortex_p1/cortex_p1_84/chr1.txt\n",
      "/home/python/higashi/cool/contacts_map_250k/cortex/cortex_p1/cortex_p1_98/chr1.txt\n",
      "/home/python/higashi/cool/contacts_map_250k/cortex/cortex_p1/cortex_p1_100/chr1.txt\n",
      "/home/python/higashi/cool/contacts_map_250k/cortex/cortex_p1/cortex_p1_103/chr1.txt\n",
      "/home/python/higashi/cool/contacts_map_250k/cortex/cortex_p1/cortex_p1_105/chr1.txt\n",
      "/home/python/higashi/cool/contacts_map_250k/cortex/cortex_p1/cortex_p1_106/chr1.txt\n",
      "/home/python/higashi/cool/contacts_map_250k/cortex/cortex_p1/cortex_p1_107/chr1.txt\n",
      "/home/python/higashi/cool/contacts_map_250k/cortex/cortex_p1/cortex_p1_109/chr1.txt\n",
      "/home/python/higashi/cool/contacts_map_250k/cortex/cortex_p1/cortex_p1_112/chr1.txt\n",
      "/home/python/higashi/cool/contacts_map_250k/cortex/cortex_p1/cortex_p1_116/chr1.txt\n",
      "/home/python/higashi/cool/contacts_map_250k/cortex/cortex_p1/cortex_p1_117/chr1.txt\n",
      "/home/python/higashi/cool/contacts_map_250k/cortex/cortex_p1/cortex_p1_118/chr1.txt\n",
      "/home/python/higashi/cool/contacts_map_250k/cortex/cortex_p1/cortex_p1_119/chr1.txt\n",
      "/home/python/higashi/cool/contacts_map_250k/cortex/cortex_p1/cortex_p1_120/chr1.txt\n",
      "/home/python/higashi/cool/contacts_map_250k/cortex/cortex_p1/cortex_p1_121/chr1.txt\n",
      "/home/python/higashi/cool/contacts_map_250k/cortex/cortex_p1/cortex_p1_123/chr1.txt\n",
      "/home/python/higashi/cool/contacts_map_250k/cortex/cortex_p1/cortex_p1_124/chr1.txt\n",
      "/home/python/higashi/cool/contacts_map_250k/cortex/cortex_p1/cortex_p1_125/chr1.txt\n",
      "/home/python/higashi/cool/contacts_map_250k/cortex/cortex_p1/cortex_p1_126/chr1.txt\n",
      "/home/python/higashi/cool/contacts_map_250k/cortex/cortex_p1/cortex_p1_127/chr1.txt\n",
      "/home/python/higashi/cool/contacts_map_250k/cortex/cortex_p1/cortex_p1_128/chr1.txt\n",
      "/home/python/higashi/cool/contacts_map_250k/cortex/cortex_p1/cortex_p1_129/chr1.txt\n",
      "/home/python/higashi/cool/contacts_map_250k/cortex/cortex_p1/cortex_p1_130/chr1.txt\n",
      "/home/python/higashi/cool/contacts_map_250k/cortex/cortex_p1/cortex_p1_131/chr1.txt\n",
      "/home/python/higashi/cool/contacts_map_250k/cortex/cortex_p1/cortex_p1_132/chr1.txt\n",
      "/home/python/higashi/cool/contacts_map_250k/cortex/cortex_p1/cortex_p1_133/chr1.txt\n",
      "/home/python/higashi/cool/contacts_map_250k/cortex/cortex_p1/cortex_p1_135/chr1.txt\n",
      "/home/python/higashi/cool/contacts_map_250k/cortex/cortex_p1/cortex_p1_136/chr1.txt\n",
      "/home/python/higashi/cool/contacts_map_250k/cortex/cortex_p1/cortex_p1_137/chr1.txt\n",
      "/home/python/higashi/cool/contacts_map_250k/cortex/cortex_p1/cortex_p1_138/chr1.txt\n",
      "/home/python/higashi/cool/contacts_map_250k/cortex/cortex_p1/cortex_p1_139/chr1.txt\n",
      "/home/python/higashi/cool/contacts_map_250k/cortex/cortex_p1/cortex_p1_142/chr1.txt\n",
      "/home/python/higashi/cool/contacts_map_250k/cortex/cortex_p1/cortex_p1_143/chr1.txt\n",
      "/home/python/higashi/cool/contacts_map_250k/cortex/cortex_p1/cortex_p1_144/chr1.txt\n",
      "/home/python/higashi/cool/contacts_map_250k/cortex/cortex_p1/cortex_p1_145/chr1.txt\n",
      "/home/python/higashi/cool/contacts_map_250k/cortex/cortex_p1/cortex_p1_146/chr1.txt\n",
      "/home/python/higashi/cool/contacts_map_250k/cortex/cortex_p1/cortex_p1_149/chr1.txt\n",
      "/home/python/higashi/cool/contacts_map_250k/cortex/cortex_p1/cortex_p1_150/chr1.txt\n",
      "/home/python/higashi/cool/contacts_map_250k/cortex/cortex_p1/cortex_p1_151/chr1.txt\n",
      "/home/python/higashi/cool/contacts_map_250k/cortex/cortex_p1/cortex_p1_153/chr1.txt\n",
      "/home/python/higashi/cool/contacts_map_250k/cortex/cortex_p1/cortex_p1_154/chr1.txt\n",
      "/home/python/higashi/cool/contacts_map_250k/cortex/cortex_p1/cortex_p1_155/chr1.txt\n",
      "/home/python/higashi/cool/contacts_map_250k/cortex/cortex_p1/cortex_p1_156/chr1.txt\n",
      "/home/python/higashi/cool/contacts_map_250k/cortex/cortex_p1/cortex_p1_158/chr1.txt\n",
      "/home/python/higashi/cool/contacts_map_250k/cortex/cortex_p1/cortex_p1_159/chr1.txt\n",
      "/home/python/higashi/cool/contacts_map_250k/cortex/cortex_p1/cortex_p1_160/chr1.txt\n",
      "/home/python/higashi/cool/contacts_map_250k/cortex/cortex_p1/cortex_p1_161/chr1.txt\n",
      "/home/python/higashi/cool/contacts_map_250k/cortex/cortex_p1/cortex_p1_163/chr1.txt\n",
      "/home/python/higashi/cool/contacts_map_250k/cortex/cortex_p1/cortex_p1_164/chr1.txt\n",
      "/home/python/higashi/cool/contacts_map_250k/cortex/cortex_p1/cortex_p1_165/chr1.txt\n",
      "/home/python/higashi/cool/contacts_map_250k/cortex/cortex_p1/cortex_p1_166/chr1.txt\n",
      "/home/python/higashi/cool/contacts_map_250k/cortex/cortex_p1/cortex_p1_167/chr1.txt\n",
      "/home/python/higashi/cool/contacts_map_250k/cortex/cortex_p1/cortex_p1_168/chr1.txt\n",
      "/home/python/higashi/cool/contacts_map_250k/cortex/cortex_p1/cortex_p1_171/chr1.txt\n",
      "/home/python/higashi/cool/contacts_map_250k/cortex/cortex_p1/cortex_p1_172/chr1.txt\n",
      "/home/python/higashi/cool/contacts_map_250k/cortex/cortex_p1/cortex_p1_173/chr1.txt\n",
      "/home/python/higashi/cool/contacts_map_250k/cortex/cortex_p1/cortex_p1_174/chr1.txt\n",
      "/home/python/higashi/cool/contacts_map_250k/cortex/cortex_p1/cortex_p1_176/chr1.txt\n",
      "/home/python/higashi/cool/contacts_map_250k/cortex/cortex_p1/cortex_p1_177/chr1.txt\n",
      "/home/python/higashi/cool/contacts_map_250k/cortex/cortex_p1/cortex_p1_178/chr1.txt\n",
      "/home/python/higashi/cool/contacts_map_250k/cortex/cortex_p1/cortex_p1_179/chr1.txt\n",
      "/home/python/higashi/cool/contacts_map_250k/cortex/cortex_p1/cortex_p1_180/chr1.txt\n",
      "/home/python/higashi/cool/contacts_map_250k/cortex/cortex_p1/cortex_p1_185/chr1.txt\n",
      "/home/python/higashi/cool/contacts_map_250k/cortex/cortex_p1/cortex_p1_188/chr1.txt\n",
      "/home/python/higashi/cool/contacts_map_250k/cortex/cortex_p1/cortex_p1_189/chr1.txt\n",
      "/home/python/higashi/cool/contacts_map_250k/cortex/cortex_p1/cortex_p1_190/chr1.txt\n",
      "/home/python/higashi/cool/contacts_map_250k/cortex/cortex_p1/cortex_p1_191/chr1.txt\n",
      "/home/python/higashi/cool/contacts_map_250k/cortex/cortex_p1/cortex_p1_196/chr1.txt\n",
      "/home/python/higashi/cool/contacts_map_250k/cortex/cortex_p1/cortex_p1_197/chr1.txt\n",
      "/home/python/higashi/cool/contacts_map_250k/cortex/cortex_p1/cortex_p1_198/chr1.txt\n",
      "/home/python/higashi/cool/contacts_map_250k/cortex/cortex_p1/cortex_p1_199/chr1.txt\n",
      "/home/python/higashi/cool/contacts_map_250k/cortex/cortex_p1/cortex_p1_200/chr1.txt\n",
      "/home/python/higashi/cool/contacts_map_250k/cortex/cortex_p1/cortex_p1_201/chr1.txt\n",
      "/home/python/higashi/cool/contacts_map_250k/cortex/cortex_p1/cortex_p1_202/chr1.txt\n",
      "/home/python/higashi/cool/contacts_map_250k/cortex/cortex_p1/cortex_p1_203/chr1.txt\n",
      "/home/python/higashi/cool/contacts_map_250k/cortex/cortex_p1/cortex_p1_204/chr1.txt\n",
      "/home/python/higashi/cool/contacts_map_250k/cortex/cortex_p1/cortex_p1_205/chr1.txt\n",
      "/home/python/higashi/cool/contacts_map_250k/cortex/cortex_p1/cortex_p1_206/chr1.txt\n",
      "/home/python/higashi/cool/contacts_map_250k/cortex/cortex_p1/cortex_p1_207/chr1.txt\n",
      "/home/python/higashi/cool/contacts_map_250k/cortex/cortex_p1/cortex_p1_208/chr1.txt\n",
      "/home/python/higashi/cool/contacts_map_250k/cortex/cortex_p1/cortex_p1_210/chr1.txt\n",
      "/home/python/higashi/cool/contacts_map_250k/cortex/cortex_p1/cortex_p1_211/chr1.txt\n",
      "/home/python/higashi/cool/contacts_map_250k/cortex/cortex_p1/cortex_p1_213/chr1.txt\n",
      "/home/python/higashi/cool/contacts_map_250k/cortex/cortex_p1/cortex_p1_214/chr1.txt\n",
      "/home/python/higashi/cool/contacts_map_250k/cortex/cortex_p1/cortex_p1_215/chr1.txt\n",
      "/home/python/higashi/cool/contacts_map_250k/cortex/cortex_p1/cortex_p1_218/chr1.txt\n",
      "/home/python/higashi/cool/contacts_map_250k/cortex/cortex_p1/cortex_p1_219/chr1.txt\n",
      "/home/python/higashi/cool/contacts_map_250k/cortex/cortex_p1/cortex_p1_220/chr1.txt\n",
      "/home/python/higashi/cool/contacts_map_250k/cortex/cortex_p1/cortex_p1_221/chr1.txt\n",
      "/home/python/higashi/cool/contacts_map_250k/cortex/cortex_p1/cortex_p1_222/chr1.txt\n",
      "/home/python/higashi/cool/contacts_map_250k/cortex/cortex_p1/cortex_p1_223/chr1.txt\n",
      "/home/python/higashi/cool/contacts_map_250k/cortex/cortex_p1/cortex_p1_224/chr1.txt\n",
      "/home/python/higashi/cool/contacts_map_250k/cortex/cortex_p1/cortex_p1_225/chr1.txt\n",
      "/home/python/higashi/cool/contacts_map_250k/cortex/cortex_p1/cortex_p1_226/chr1.txt\n",
      "/home/python/higashi/cool/contacts_map_250k/cortex/cortex_p1/cortex_p1_227/chr1.txt\n",
      "/home/python/higashi/cool/contacts_map_250k/cortex/cortex_p1/cortex_p1_228/chr1.txt\n",
      "/home/python/higashi/cool/contacts_map_250k/cortex/cortex_p1/cortex_p1_230/chr1.txt\n",
      "/home/python/higashi/cool/contacts_map_250k/cortex/cortex_p1/cortex_p1_231/chr1.txt\n",
      "/home/python/higashi/cool/contacts_map_250k/cortex/cortex_p1/cortex_p1_232/chr1.txt\n",
      "/home/python/higashi/cool/contacts_map_250k/cortex/cortex_p1/cortex_p1_233/chr1.txt\n",
      "/home/python/higashi/cool/contacts_map_250k/cortex/cortex_p1/cortex_p1_234/chr1.txt\n",
      "/home/python/higashi/cool/contacts_map_250k/cortex/cortex_p1/cortex_p1_235/chr1.txt\n",
      "/home/python/higashi/cool/contacts_map_250k/cortex/cortex_p1/cortex_p1_236/chr1.txt\n",
      "/home/python/higashi/cool/contacts_map_250k/cortex/cortex_p1/cortex_p1_237/chr1.txt\n",
      "/home/python/higashi/cool/contacts_map_250k/cortex/cortex_p1/cortex_p1_238/chr1.txt\n",
      "/home/python/higashi/cool/contacts_map_250k/cortex/cortex_p1/cortex_p1_239/chr1.txt\n",
      "/home/python/higashi/cool/contacts_map_250k/cortex/cortex_p1/cortex_p1_240/chr1.txt\n",
      "/home/python/higashi/cool/contacts_map_250k/cortex/cortex_p1/cortex_p1_241/chr1.txt\n",
      "/home/python/higashi/cool/contacts_map_250k/cortex/cortex_p1/cortex_p1_243/chr1.txt\n",
      "/home/python/higashi/cool/contacts_map_250k/cortex/cortex_p1/cortex_p1_244/chr1.txt\n",
      "/home/python/higashi/cool/contacts_map_250k/cortex/cortex_p1/cortex_p1_245/chr1.txt\n",
      "/home/python/higashi/cool/contacts_map_250k/cortex/cortex_p1/cortex_p1_246/chr1.txt\n",
      "/home/python/higashi/cool/contacts_map_250k/cortex/cortex_p1/cortex_p1_247/chr1.txt\n",
      "/home/python/higashi/cool/contacts_map_250k/cortex/cortex_p1/cortex_p1_248/chr1.txt\n",
      "/home/python/higashi/cool/contacts_map_250k/cortex/cortex_p1/cortex_p1_249/chr1.txt\n",
      "/home/python/higashi/cool/contacts_map_250k/cortex/cortex_p1/cortex_p1_250/chr1.txt\n",
      "/home/python/higashi/cool/contacts_map_250k/cortex/cortex_p1/cortex_p1_251/chr1.txt\n",
      "/home/python/higashi/cool/contacts_map_250k/cortex/cortex_p1/cortex_p1_252/chr1.txt\n",
      "/home/python/higashi/cool/contacts_map_250k/cortex/cortex_p1/cortex_p1_253/chr1.txt\n",
      "/home/python/higashi/cool/contacts_map_250k/cortex/cortex_p1/cortex_p1_254/chr1.txt\n",
      "/home/python/higashi/cool/contacts_map_250k/cortex/cortex_p1/cortex_p1_255/chr1.txt\n",
      "/home/python/higashi/cool/contacts_map_250k/cortex/cortex_p1/cortex_p1_256/chr1.txt\n",
      "/home/python/higashi/cool/contacts_map_250k/cortex/cortex_p1/cortex_p1_257/chr1.txt\n",
      "/home/python/higashi/cool/contacts_map_250k/cortex/cortex_p1/cortex_p1_259/chr1.txt\n",
      "/home/python/higashi/cool/contacts_map_250k/cortex/cortex_p1/cortex_p1_260/chr1.txt\n",
      "/home/python/higashi/cool/contacts_map_250k/cortex/cortex_p1/cortex_p1_261/chr1.txt\n",
      "/home/python/higashi/cool/contacts_map_250k/cortex/cortex_p1/cortex_p1_262/chr1.txt\n",
      "/home/python/higashi/cool/contacts_map_250k/cortex/cortex_p1/cortex_p1_263/chr1.txt\n",
      "/home/python/higashi/cool/contacts_map_250k/cortex/cortex_p1/cortex_p1_264/chr1.txt\n",
      "/home/python/higashi/cool/contacts_map_250k/cortex/cortex_p1/cortex_p1_266/chr1.txt\n",
      "/home/python/higashi/cool/contacts_map_250k/cortex/cortex_p1/cortex_p1_267/chr1.txt\n",
      "/home/python/higashi/cool/contacts_map_250k/cortex/cortex_p1/cortex_p1_269/chr1.txt\n",
      "/home/python/higashi/cool/contacts_map_250k/cortex/cortex_p1/cortex_p1_270/chr1.txt\n",
      "/home/python/higashi/cool/contacts_map_250k/cortex/cortex_p1/cortex_p1_271/chr1.txt\n",
      "/home/python/higashi/cool/contacts_map_250k/cortex/cortex_p1/cortex_p1_272/chr1.txt\n",
      "/home/python/higashi/cool/contacts_map_250k/cortex/cortex_p1/cortex_p1_273/chr1.txt\n",
      "/home/python/higashi/cool/contacts_map_250k/cortex/cortex_p1/cortex_p1_274/chr1.txt\n",
      "/home/python/higashi/cool/contacts_map_250k/cortex/cortex_p1/cortex_p1_275/chr1.txt\n",
      "/home/python/higashi/cool/contacts_map_250k/cortex/cortex_p1/cortex_p1_276/chr1.txt\n",
      "/home/python/higashi/cool/contacts_map_250k/cortex/cortex_p1/cortex_p1_281/chr1.txt\n",
      "/home/python/higashi/cool/contacts_map_250k/cortex/cortex_p1/cortex_p1_285/chr1.txt\n",
      "/home/python/higashi/cool/contacts_map_250k/cortex/cortex_p1/cortex_p1_286/chr1.txt\n",
      "/home/python/higashi/cool/contacts_map_250k/cortex/cortex_p1/cortex_p1_287/chr1.txt\n",
      "/home/python/higashi/cool/contacts_map_250k/cortex/cortex_p1/cortex_p1_288/chr1.txt\n"
     ]
    }
   ],
   "source": [
    "# import os\n",
    "# # folder_path='/home/python/higashi/cool/contacts_map_250k/cortex'\n",
    "# folder_path='/home/python/higashi/cool/contacts_map_250k/cortex/cortex_p1'\n",
    "# # def sort_key(path):\n",
    "# #     # 获取路径中的数字部分作为排序关键字\n",
    "# #     return [int(part) if part.isdigit() else part for part in path.split('_')]\n",
    "# def sort_key(path):\n",
    "#     # 先使用斜杠分割路径，然后使用下划线分割每个部分，获取数字作为排序关键字\n",
    "#     parts = []\n",
    "#     for part in path.split('/'):\n",
    "#         parts.extend(part.split('_'))\n",
    "#     return [int(part) if part.isdigit() else part for part in parts]\n",
    "# def find_file(folder_path):\n",
    "#     file_path=[]\n",
    "#     for root, dirs, files in os.walk(folder_path):\n",
    "#             for file in files:\n",
    "#                 if file.endswith('.txt') and 'chr1' == file.split(\".\")[0]:\n",
    "#                     file_path.append(os.path.join(root, file))\n",
    "#                     # print(file_path)\n",
    "#     return file_path\n",
    "# paths=find_file(folder_path)\n",
    "# sorted_paths = sorted(paths, key=sort_key)\n",
    "\n",
    "# # # 打印排序后的路径\n",
    "# for path in sorted_paths:\n",
    "#     print(path)"
   ]
  },
  {
   "cell_type": "code",
   "execution_count": 32,
   "metadata": {},
   "outputs": [
    {
     "name": "stdout",
     "output_type": "stream",
     "text": [
      "稀疏矩阵：\n",
      "[[ 0  0  0 ...  0  0  0]\n",
      " [ 0  0  0 ...  0  0  0]\n",
      " [ 0  0  0 ...  0  0  0]\n",
      " ...\n",
      " [ 0  0  0 ... 21  7  0]\n",
      " [ 0  0  0 ...  7 11  0]\n",
      " [ 0  0  0 ...  0  0  1]]\n"
     ]
    }
   ],
   "source": [
    "# from scipy.sparse import csr_matrix\n",
    "# path='/home/python/higashi/cool/contacts_map_250k/cortex/cortex_p1/cortex_p1_1/chr1.txt'\n",
    "# with open(path, 'r') as f:\n",
    "#     lines = f.readlines()\n",
    "\n",
    "# # 将文本数据解析为稀疏矩阵的坐标和值\n",
    "# rows = []\n",
    "# cols = []\n",
    "# values = []\n",
    "\n",
    "# # for line in f.strip().split('\\n'):\n",
    "# for line in lines:\n",
    "#     row, col, value = map(int, line.split())\n",
    "#     rows.append(row)\n",
    "#     cols.append(col)\n",
    "#     values.append(value)\n",
    "\n",
    "# # 创建稀疏矩阵\n",
    "# sparse_matrix = csr_matrix((values, (rows, cols)), shape=(max(rows)+1, max(cols)+1))\n",
    "\n",
    "# print(\"稀疏矩阵：\")\n",
    "# print(sparse_matrix.toarray())\n"
   ]
  },
  {
   "cell_type": "code",
   "execution_count": 40,
   "metadata": {},
   "outputs": [],
   "source": [
    "# paths=['/home/python/higashi/cool/contacts_map_250k/cortex/cortex_p1/cortex_p1_1/chr1.txt',\n",
    "# '/home/python/higashi/cool/contacts_map_250k/cortex/cortex_p1/cortex_p1_2/chr1.txt',\n",
    "# '/home/python/higashi/cool/contacts_map_250k/cortex/cortex_p1/cortex_p1_3/chr1.txt',\n",
    "# '/home/python/higashi/cool/contacts_map_250k/cortex/cortex_p1/cortex_p1_4/chr1.txt',\n",
    "# '/home/python/higashi/cool/contacts_map_250k/cortex/cortex_p1/cortex_p1_5/chr1.txt',\n",
    "# '/home/python/higashi/cool/contacts_map_250k/cortex/cortex_p1/cortex_p1_6/chr1.txt']\n",
    "# sparse_matrices_list=[]\n",
    "# for path in paths:\n",
    "#     with open(path, 'r') as f:\n",
    "#         lines = f.readlines()\n",
    "\n",
    "#     # 将文本数据解析为稀疏矩阵的坐标和值\n",
    "#     rows = []\n",
    "#     cols = []\n",
    "#     values = []\n",
    "\n",
    "#     for line in lines:\n",
    "#         row, col, value = map(int, line.split())\n",
    "#         rows.append(row)\n",
    "#         cols.append(col)\n",
    "#         values.append(value)\n",
    "\n",
    "#     # 创建稀疏矩阵，使用lil_matrix进行高效构建\n",
    "#     # 创建稀疏矩阵\n",
    "#     sparse_matrix_csr = csr_matrix((values, (rows, cols)), shape=(max(rows)+1, max(cols)+1))\n",
    "\n",
    "#     # 将稀疏矩阵添加到列表中\n",
    "#     sparse_matrices_list.append(sparse_matrix_csr)\n",
    "\n",
    "# # 将稀疏矩阵列表保存为.npy文件\n",
    "# np.save('test_sparse_matrices.npy', sparse_matrices_list)\n",
    "# #/home/python/higashi/notebook/without_higahsi_test/test_sparse_matrices.npy"
   ]
  },
  {
   "cell_type": "code",
   "execution_count": 1,
   "metadata": {},
   "outputs": [
    {
     "name": "stderr",
     "output_type": "stream",
     "text": [
      "Processing chr1: 100%|██████████| 1075/1075 [00:28<00:00, 37.62it/s]\n"
     ]
    },
    {
     "name": "stdout",
     "output_type": "stream",
     "text": [
      "chr1 finished\n"
     ]
    },
    {
     "name": "stderr",
     "output_type": "stream",
     "text": [
      "Processing chr2: 100%|██████████| 1075/1075 [00:25<00:00, 42.11it/s]\n"
     ]
    },
    {
     "name": "stdout",
     "output_type": "stream",
     "text": [
      "chr2 finished\n"
     ]
    },
    {
     "name": "stderr",
     "output_type": "stream",
     "text": [
      "Processing chr3: 100%|██████████| 1075/1075 [00:22<00:00, 47.14it/s]\n"
     ]
    },
    {
     "name": "stdout",
     "output_type": "stream",
     "text": [
      "chr3 finished\n"
     ]
    },
    {
     "name": "stderr",
     "output_type": "stream",
     "text": [
      "Processing chr4: 100%|██████████| 1075/1075 [00:20<00:00, 52.63it/s]\n"
     ]
    },
    {
     "name": "stdout",
     "output_type": "stream",
     "text": [
      "chr4 finished\n"
     ]
    },
    {
     "name": "stderr",
     "output_type": "stream",
     "text": [
      "Processing chr5: 100%|██████████| 1075/1075 [00:19<00:00, 55.05it/s]\n"
     ]
    },
    {
     "name": "stdout",
     "output_type": "stream",
     "text": [
      "chr5 finished\n"
     ]
    },
    {
     "name": "stderr",
     "output_type": "stream",
     "text": [
      "Processing chr6: 100%|██████████| 1075/1075 [00:20<00:00, 52.73it/s]\n"
     ]
    },
    {
     "name": "stdout",
     "output_type": "stream",
     "text": [
      "chr6 finished\n"
     ]
    },
    {
     "name": "stderr",
     "output_type": "stream",
     "text": [
      "Processing chr7: 100%|██████████| 1075/1075 [00:18<00:00, 57.25it/s]\n"
     ]
    },
    {
     "name": "stdout",
     "output_type": "stream",
     "text": [
      "chr7 finished\n"
     ]
    },
    {
     "name": "stderr",
     "output_type": "stream",
     "text": [
      "Processing chr8: 100%|██████████| 1075/1075 [00:16<00:00, 63.68it/s]\n"
     ]
    },
    {
     "name": "stdout",
     "output_type": "stream",
     "text": [
      "chr8 finished\n"
     ]
    },
    {
     "name": "stderr",
     "output_type": "stream",
     "text": [
      "Processing chr9: 100%|██████████| 1075/1075 [00:16<00:00, 65.20it/s]\n"
     ]
    },
    {
     "name": "stdout",
     "output_type": "stream",
     "text": [
      "chr9 finished\n"
     ]
    },
    {
     "name": "stderr",
     "output_type": "stream",
     "text": [
      "Processing chr10: 100%|██████████| 1075/1075 [00:17<00:00, 60.25it/s]\n"
     ]
    },
    {
     "name": "stdout",
     "output_type": "stream",
     "text": [
      "chr10 finished\n"
     ]
    },
    {
     "name": "stderr",
     "output_type": "stream",
     "text": [
      "Processing chr11: 100%|██████████| 1075/1075 [00:16<00:00, 66.80it/s]\n"
     ]
    },
    {
     "name": "stdout",
     "output_type": "stream",
     "text": [
      "chr11 finished\n"
     ]
    },
    {
     "name": "stderr",
     "output_type": "stream",
     "text": [
      "Processing chr12: 100%|██████████| 1075/1075 [00:15<00:00, 68.30it/s]\n"
     ]
    },
    {
     "name": "stdout",
     "output_type": "stream",
     "text": [
      "chr12 finished\n"
     ]
    },
    {
     "name": "stderr",
     "output_type": "stream",
     "text": [
      "Processing chr13: 100%|██████████| 1075/1075 [00:16<00:00, 65.33it/s]\n"
     ]
    },
    {
     "name": "stdout",
     "output_type": "stream",
     "text": [
      "chr13 finished\n"
     ]
    },
    {
     "name": "stderr",
     "output_type": "stream",
     "text": [
      "Processing chr14: 100%|██████████| 1075/1075 [00:15<00:00, 68.93it/s]\n"
     ]
    },
    {
     "name": "stdout",
     "output_type": "stream",
     "text": [
      "chr14 finished\n"
     ]
    },
    {
     "name": "stderr",
     "output_type": "stream",
     "text": [
      "Processing chr15: 100%|██████████| 1075/1075 [00:13<00:00, 81.96it/s]\n"
     ]
    },
    {
     "name": "stdout",
     "output_type": "stream",
     "text": [
      "chr15 finished\n"
     ]
    },
    {
     "name": "stderr",
     "output_type": "stream",
     "text": [
      "Processing chr16: 100%|██████████| 1075/1075 [00:12<00:00, 84.05it/s]\n"
     ]
    },
    {
     "name": "stdout",
     "output_type": "stream",
     "text": [
      "chr16 finished\n"
     ]
    },
    {
     "name": "stderr",
     "output_type": "stream",
     "text": [
      "Processing chr17: 100%|██████████| 1075/1075 [00:11<00:00, 91.31it/s]\n"
     ]
    },
    {
     "name": "stdout",
     "output_type": "stream",
     "text": [
      "chr17 finished\n"
     ]
    },
    {
     "name": "stderr",
     "output_type": "stream",
     "text": [
      "Processing chr18: 100%|██████████| 1075/1075 [00:11<00:00, 92.36it/s]\n"
     ]
    },
    {
     "name": "stdout",
     "output_type": "stream",
     "text": [
      "chr18 finished\n"
     ]
    },
    {
     "name": "stderr",
     "output_type": "stream",
     "text": [
      "Processing chr19: 100%|██████████| 1075/1075 [00:07<00:00, 152.25it/s]\n"
     ]
    },
    {
     "name": "stdout",
     "output_type": "stream",
     "text": [
      "chr19 finished\n"
     ]
    },
    {
     "name": "stderr",
     "output_type": "stream",
     "text": [
      "Processing chrX: 100%|██████████| 1075/1075 [00:15<00:00, 71.60it/s]\n"
     ]
    },
    {
     "name": "stdout",
     "output_type": "stream",
     "text": [
      "chrX finished\n"
     ]
    }
   ],
   "source": [
    "#不使用higashi直接由txt文件列表得到数据集按染色体存储的稀疏矩阵文件\n",
    "import numpy as np\n",
    "import os\n",
    "from scipy.sparse import csr_matrix\n",
    "from tqdm import tqdm\n",
    "\n",
    "# def sort_key(path):\n",
    "#     # 获取路径中的数字部分作为排序关键字\n",
    "#     return [int(part) if part.isdigit() else part for part in path.split('_')]\n",
    "def sort_key(path):\n",
    "    # 先使用斜杠分割路径，然后使用下划线分割每个部分，获取数字作为排序关键字\n",
    "    parts = []\n",
    "    for part in path.split('/'):\n",
    "        parts.extend(part.split('_'))\n",
    "    return [int(part) if part.isdigit() else part for part in parts]\n",
    "#获取数据集根目录下所以chrom命名的txt文件并返回排序后的文件列表\n",
    "def find_file(folder_path):\n",
    "    file_path=[]\n",
    "    for root, dirs, files in os.walk(folder_path):\n",
    "            for file in files:\n",
    "                if file.endswith('.txt') and chrom == file.split(\".\")[0]:\n",
    "                    file_path.append(os.path.join(root, file))\n",
    "    sorted_paths = sorted(file_path, key=sort_key)\n",
    "    return sorted_paths\n",
    "#按染色体获取的排序后的文件列表文件逐个转换成稀疏矩阵格式添加到列表中，最后将列表保存为一个按染色体命名的npy文件\n",
    "def txt_to_sparse(floder_path,chrom):\n",
    "    #初始化要写入文件的列表为空仿真重复写入\n",
    "    sparse_matrices_list=[]\n",
    "    paths=find_file(folder_path)\n",
    "    #添加进度条显示处理样本进度\n",
    "    for path in tqdm(paths,desc=\"Processing %s\"%chrom):\n",
    "        with open(path, 'r') as f:\n",
    "            lines = f.readlines()\n",
    "        rows = []\n",
    "        cols = []\n",
    "        values = []\n",
    "        for line in lines:\n",
    "            row, col, value = map(int, line.split())\n",
    "            rows.append(row)\n",
    "            cols.append(col)\n",
    "            values.append(value)\n",
    "        sparse_matrix_csr = csr_matrix((values, (rows, cols)), shape=(max(rows)+1, max(cols)+1), dtype=np.float32)\n",
    "        sparse_matrices_list.append(sparse_matrix_csr)\n",
    "    np.save(os.path.join(output_dir,'%s_sparse_matrices.npy'% chrom), sparse_matrices_list)\n",
    "    print (chrom, \"finished\")\n",
    "#数据集全部稀疏矩阵txt文件根目录\n",
    "folder_path='/home/python/higashi/cool/contacts_map_250k/cortex'\n",
    "#存放输出结果路径\n",
    "output_dir='/home/python/higashi/notebook/without_higahsi_test/tmp'\n",
    "chrom_list = [\"chr1\",\"chr2\",\"chr3\",\"chr4\",\"chr5\",\n",
    "    \"chr6\",\"chr7\",\"chr8\",\"chr9\",\"chr10\",\n",
    "    \"chr11\",\"chr12\",\"chr13\",\"chr14\",\"chr15\",\n",
    "    \"chr16\",\"chr17\",\"chr18\",\"chr19\",\"chrX\"]\n",
    "chrom_list = np.array(chrom_list)\n",
    "for chrom in chrom_list:\n",
    "    txt_to_sparse(folder_path,chrom)\n",
    "    \n"
   ]
  },
  {
   "cell_type": "code",
   "execution_count": 56,
   "metadata": {},
   "outputs": [
    {
     "data": {
      "text/plain": [
       "array([<782x782 sparse matrix of type '<class 'numpy.int64'>'\n",
       "       \twith 14887 stored elements in Compressed Sparse Row format>,\n",
       "       <782x782 sparse matrix of type '<class 'numpy.int64'>'\n",
       "       \twith 11268 stored elements in Compressed Sparse Row format>,\n",
       "       <782x782 sparse matrix of type '<class 'numpy.int64'>'\n",
       "       \twith 9442 stored elements in Compressed Sparse Row format>, ...,\n",
       "       <782x782 sparse matrix of type '<class 'numpy.int64'>'\n",
       "       \twith 11065 stored elements in Compressed Sparse Row format>,\n",
       "       <782x782 sparse matrix of type '<class 'numpy.int64'>'\n",
       "       \twith 13173 stored elements in Compressed Sparse Row format>,\n",
       "       <782x782 sparse matrix of type '<class 'numpy.int64'>'\n",
       "       \twith 11021 stored elements in Compressed Sparse Row format>],\n",
       "      dtype=object)"
      ]
     },
     "execution_count": 56,
     "metadata": {},
     "output_type": "execute_result"
    }
   ],
   "source": [
    "my_sparse = np.load('/home/python/higashi/notebook/without_higahsi_test/tmp/chr1_sparse_matrices.npy', allow_pickle=True)\n",
    "my_sparse"
   ]
  },
  {
   "cell_type": "code",
   "execution_count": 57,
   "metadata": {},
   "outputs": [
    {
     "data": {
      "text/plain": [
       "array([<782x782 sparse matrix of type '<class 'numpy.float32'>'\n",
       "       \twith 14887 stored elements in Compressed Sparse Row format>,\n",
       "       <782x782 sparse matrix of type '<class 'numpy.float32'>'\n",
       "       \twith 11268 stored elements in Compressed Sparse Row format>,\n",
       "       <782x782 sparse matrix of type '<class 'numpy.float32'>'\n",
       "       \twith 9442 stored elements in Compressed Sparse Row format>, ...,\n",
       "       <782x782 sparse matrix of type '<class 'numpy.float32'>'\n",
       "       \twith 14587 stored elements in Compressed Sparse Row format>,\n",
       "       <782x782 sparse matrix of type '<class 'numpy.float32'>'\n",
       "       \twith 13287 stored elements in Compressed Sparse Row format>,\n",
       "       <782x782 sparse matrix of type '<class 'numpy.float32'>'\n",
       "       \twith 12003 stored elements in Compressed Sparse Row format>],\n",
       "      dtype=object)"
      ]
     },
     "execution_count": 57,
     "metadata": {},
     "output_type": "execute_result"
    }
   ],
   "source": [
    "my_sparse = np.load('/home/python/higashi/dataset2/cortex/250k/tmp/raw/chr1_sparse_adj.npy', allow_pickle=True)\n",
    "my_sparse"
   ]
  },
  {
   "cell_type": "code",
   "execution_count": null,
   "metadata": {},
   "outputs": [],
   "source": []
  },
  {
   "cell_type": "code",
   "execution_count": null,
   "metadata": {},
   "outputs": [],
   "source": []
  },
  {
   "cell_type": "code",
   "execution_count": 41,
   "metadata": {},
   "outputs": [],
   "source": [
    " origin_sparse = np.load('/home/python/higashi/notebook/without_higahsi_test/test_sparse_matrices.npy', allow_pickle=True)"
   ]
  },
  {
   "cell_type": "code",
   "execution_count": 49,
   "metadata": {},
   "outputs": [
    {
     "ename": "IndexError",
     "evalue": "index 6 is out of bounds for axis 0 with size 6",
     "output_type": "error",
     "traceback": [
      "\u001b[0;31m---------------------------------------------------------------------------\u001b[0m",
      "\u001b[0;31mIndexError\u001b[0m                                Traceback (most recent call last)",
      "\u001b[1;32m/home/python/higashi/notebook/without_higahsi_test/由txt得到每个染色体的稀疏矩阵文件.ipynb 单元格 7\u001b[0m line \u001b[0;36m1\n\u001b[0;32m----> <a href='vscode-notebook-cell://attached-container%2B7b22636f6e7461696e65724e616d65223a222f68696370726f227d/home/python/higashi/notebook/without_higahsi_test/%E7%94%B1txt%E5%BE%97%E5%88%B0%E6%AF%8F%E4%B8%AA%E6%9F%93%E8%89%B2%E4%BD%93%E7%9A%84%E7%A8%80%E7%96%8F%E7%9F%A9%E9%98%B5%E6%96%87%E4%BB%B6.ipynb#X16sdnNjb2RlLXJlbW90ZQ%3D%3D?line=0'>1</a>\u001b[0m origin_sparse[\u001b[39m6\u001b[39;49m]\n",
      "\u001b[0;31mIndexError\u001b[0m: index 6 is out of bounds for axis 0 with size 6"
     ]
    }
   ],
   "source": [
    "origin_sparse[6]"
   ]
  },
  {
   "cell_type": "code",
   "execution_count": 38,
   "metadata": {},
   "outputs": [
    {
     "name": "stdout",
     "output_type": "stream",
     "text": [
      "  (12, 12)\t11\n",
      "  (12, 15)\t3\n",
      "  (12, 16)\t3\n",
      "  (12, 25)\t1\n",
      "  (12, 27)\t4\n",
      "  (12, 29)\t1\n",
      "  (12, 106)\t1\n",
      "  (12, 107)\t1\n",
      "  (12, 114)\t1\n",
      "  (12, 115)\t1\n",
      "  (12, 116)\t1\n",
      "  (12, 124)\t3\n",
      "  (12, 188)\t1\n",
      "  (12, 191)\t3\n",
      "  (12, 192)\t2\n",
      "  (12, 193)\t1\n",
      "  (12, 197)\t1\n",
      "  (12, 198)\t1\n",
      "  (12, 199)\t1\n",
      "  (12, 353)\t1\n",
      "  (12, 487)\t1\n",
      "  (12, 521)\t2\n",
      "  (12, 544)\t1\n",
      "  (12, 549)\t1\n",
      "  (13, 13)\t9\n",
      "  :\t:\n",
      "  (778, 775)\t6\n",
      "  (778, 776)\t7\n",
      "  (778, 777)\t9\n",
      "  (778, 778)\t18\n",
      "  (778, 779)\t2\n",
      "  (778, 781)\t1\n",
      "  (779, 180)\t1\n",
      "  (779, 767)\t1\n",
      "  (779, 772)\t1\n",
      "  (779, 773)\t1\n",
      "  (779, 776)\t5\n",
      "  (779, 777)\t1\n",
      "  (779, 778)\t2\n",
      "  (779, 779)\t21\n",
      "  (779, 780)\t7\n",
      "  (780, 606)\t1\n",
      "  (780, 639)\t1\n",
      "  (780, 772)\t1\n",
      "  (780, 775)\t1\n",
      "  (780, 776)\t1\n",
      "  (780, 777)\t1\n",
      "  (780, 779)\t7\n",
      "  (780, 780)\t11\n",
      "  (781, 778)\t1\n",
      "  (781, 781)\t1\n"
     ]
    }
   ],
   "source": [
    "print(sparse_matrix)"
   ]
  },
  {
   "cell_type": "code",
   "execution_count": null,
   "metadata": {},
   "outputs": [],
   "source": [
    "#scipy.sparse.csr.csr_matrix"
   ]
  },
  {
   "cell_type": "code",
   "execution_count": 26,
   "metadata": {},
   "outputs": [
    {
     "data": {
      "text/plain": [
       "1075"
      ]
     },
     "execution_count": 26,
     "metadata": {},
     "output_type": "execute_result"
    }
   ],
   "source": [
    "len(sorted_paths)"
   ]
  },
  {
   "cell_type": "code",
   "execution_count": 21,
   "metadata": {},
   "outputs": [],
   "source": [
    "path='/home/python/higashi/cool/contacts_map_250k/cortex/cortex_p1/cortex_p1_1/chr1.txt'\n",
    "test=[int(part) if part.isdigit() else part for part in path.split('_')]"
   ]
  },
  {
   "cell_type": "code",
   "execution_count": 22,
   "metadata": {},
   "outputs": [
    {
     "data": {
      "text/plain": [
       "['/home/python/higashi/cool/contacts',\n",
       " 'map',\n",
       " '250k/cortex/cortex',\n",
       " 'p1/cortex',\n",
       " 'p1',\n",
       " '1/chr1.txt']"
      ]
     },
     "execution_count": 22,
     "metadata": {},
     "output_type": "execute_result"
    }
   ],
   "source": [
    "test"
   ]
  },
  {
   "cell_type": "code",
   "execution_count": 24,
   "metadata": {},
   "outputs": [
    {
     "data": {
      "text/plain": [
       "['',\n",
       " 'home',\n",
       " 'python',\n",
       " 'higashi',\n",
       " 'cool',\n",
       " 'contacts',\n",
       " 'map',\n",
       " '250k',\n",
       " 'cortex',\n",
       " 'cortex',\n",
       " 'p1',\n",
       " 'cortex',\n",
       " 'p1',\n",
       " 1,\n",
       " 'chr1.txt']"
      ]
     },
     "execution_count": 24,
     "metadata": {},
     "output_type": "execute_result"
    }
   ],
   "source": [
    "path='/home/python/higashi/cool/contacts_map_250k/cortex/cortex_p1/cortex_p1_1/chr1.txt'\n",
    "parts = []\n",
    "for part in path.split('/'):\n",
    "    parts.extend(part.split('_'))\n",
    "test=[int(part) if part.isdigit() else part for part in parts]\n",
    "test"
   ]
  }
 ],
 "metadata": {
  "kernelspec": {
   "display_name": "higashi",
   "language": "python",
   "name": "python3"
  },
  "language_info": {
   "codemirror_mode": {
    "name": "ipython",
    "version": 3
   },
   "file_extension": ".py",
   "mimetype": "text/x-python",
   "name": "python",
   "nbconvert_exporter": "python",
   "pygments_lexer": "ipython3",
   "version": "3.9.0"
  }
 },
 "nbformat": 4,
 "nbformat_minor": 2
}
