{
 "cells": [
  {
   "cell_type": "code",
   "execution_count": 1,
   "metadata": {},
   "outputs": [
    {
     "name": "stdout",
     "output_type": "stream",
     "text": [
      "  chrom    start      end\n",
      "0  chr1  3000000  3250000\n",
      "1  chr1  3250000  3500000\n",
      "2  chr1  3500000  3750000\n",
      "3  chr1  3750000  4000000\n",
      "4  chr1  4000000  4250000\n",
      "CX1\n",
      "路径 /home/python/higashi/dcpc/hic_cortex250k_from_higashi_prebulk_pc1/CX1_pca/intra_pca/CX1_mat 不存在，已创建。\n"
     ]
    },
    {
     "name": "stderr",
     "output_type": "stream",
     "text": [
      "100%|██████████| 19/19 [00:00<00:00, 152.02it/s]\n"
     ]
    },
    {
     "name": "stdout",
     "output_type": "stream",
     "text": [
      "写入完成： CX1\n",
      "CX2\n",
      "路径 /home/python/higashi/dcpc/hic_cortex250k_from_higashi_prebulk_pc1/CX2_pca/intra_pca/CX2_mat 不存在，已创建。\n"
     ]
    },
    {
     "name": "stderr",
     "output_type": "stream",
     "text": [
      "100%|██████████| 19/19 [00:00<00:00, 157.42it/s]\n"
     ]
    },
    {
     "name": "stdout",
     "output_type": "stream",
     "text": [
      "写入完成： CX2\n",
      "CX3\n",
      "路径 /home/python/higashi/dcpc/hic_cortex250k_from_higashi_prebulk_pc1/CX3_pca/intra_pca/CX3_mat 不存在，已创建。\n"
     ]
    },
    {
     "name": "stderr",
     "output_type": "stream",
     "text": [
      "100%|██████████| 19/19 [00:00<00:00, 151.31it/s]"
     ]
    },
    {
     "name": "stdout",
     "output_type": "stream",
     "text": [
      "写入完成： CX3\n"
     ]
    },
    {
     "name": "stderr",
     "output_type": "stream",
     "text": [
      "\n"
     ]
    }
   ],
   "source": [
    "#从higashi得到prebulk矩阵的pc值\n",
    "\n",
    "###\n",
    "#将higashi得到的compartments_pc值转为dchic需要的格式\n",
    "# chr\tstart\tend\tindex\tPC\n",
    "# chr1\t3000000\t3250000\t13\t19.0824256954153\n",
    "# chr1\t3250000\t3500000\t14\t17.3185143668633\n",
    "# chr1\t3500000\t3750000\t15\t17.1426584342794\n",
    "import h5py\n",
    "import pandas as pd\n",
    "from tqdm import tqdm\n",
    "import pickle\n",
    "# f2=pd.read_csv(\"/home/python/higashi/dataset2/cortex/250k/tmp/csv/compartment_raw_0_1075.csv\",index_col=0)\n",
    "\n",
    "# 打开HDF5文件\n",
    "# file_path = './data/cellcycle250k/tmp/scTAD_cellcycle250k.hdf5'  # HDF5文件路径\n",
    "# file_path = '/home/python/higashi/dataset2/cortex/250k/tmp/sc/compartment_raw.h5'\n",
    "# file_path='/home/python/higashi/dataset2/cortex_250k_tmp/root/autodl-tmp/250k/tmp/sc_and_bulk_cortex250k.hdf5'\n",
    "file_path = '/home/python/higashi/dataset_hic/dataset2/cortex250k/sc_and_bulk_cortex250k_hic.hdf5'\n",
    "f1 = h5py.File(file_path, 'r')  # 使用 'r' 模式打开文件以进行只读操作\n",
    "f1.keys()\n",
    "data = pd.DataFrame()\n",
    "data['chrom'] = [chrom.decode('utf-8') for chrom in f1['compartment_raw']['bin']['chrom']]\n",
    "data['start'] = f1['compartment_raw']['bin']['start']\n",
    "data['end'] = f1['compartment_raw']['bin']['end']\n",
    "\n",
    "\n",
    "import os\n",
    "\n",
    "\n",
    "chrom_list=[\"chr1\",\"chr2\",\"chr3\",\"chr4\",\"chr5\",\n",
    "\t\t\t  \"chr6\",\"chr7\",\"chr8\",\"chr9\",\"chr10\",\n",
    "\t\t\t  \"chr11\",\"chr12\",\"chr13\",\"chr14\",\"chr15\",\n",
    "\t\t\t  \"chr16\",\"chr17\",\"chr18\",\"chr19\"]\n",
    "\n",
    "# data_dir=\"/home/python/higashi/dcpc/cortex/\"\n",
    "data_dir=\"/home/python/higashi/dcpc/hic_cortex250k_from_higashi_prebulk_pc1/\"\n",
    "cell_type_info=pickle.load(open('/home/python/higashi/dataset2/cortex/250k/data/label_info.pickle', \"rb\"))\n",
    "cell_type=cell_type_info['cell_type']\n",
    "\n",
    "for j in list(set(cell_type)):\n",
    "# for i in range(3):\n",
    "    print(j)\n",
    "    path = data_dir+j+\"_pca/\"+'intra_pca'+'/'+j+'_mat'\n",
    "\n",
    "    # 使用os.path.exists()检查路径是否存在\n",
    "    if not os.path.exists(path):\n",
    "        # 如果路径不存在，创建它\n",
    "        os.makedirs(path)\n",
    "        print(f\"路径 {path} 不存在，已创建。\")\n",
    "    else:\n",
    "        print(f\"路径 {path} 已存在。\")\n",
    "    pc1=f1['compartment_bulk'][j][:,0]\n",
    "    # pc2=f1['compartment_bulk'][j][:,1]\n",
    "    # pc3=f1['compartment_bulk'][j][:,2]\n",
    "    df=pd.DataFrame()\n",
    "    df['chr']=data['chrom']\n",
    "    df['start']=data['start']\n",
    "    df['end']=data['end']\n",
    "    df['index']=data['end'].map(lambda x: str(int(x)//250000 ))\n",
    "    df['pc1']=pc1\n",
    "    df['pc2']=pc1\n",
    "    # df['pc3']=pc3\n",
    "    for chr in tqdm(chrom_list):\n",
    "        chr_path=path+'/'+chr+'.pc.txt'\n",
    "        df[df['chr'] == chr].to_csv(chr_path, sep='\\t', index=None, header=True, mode='a')\n",
    "    print(\"写入完成：\",j)"
   ]
  },
  {
   "cell_type": "code",
   "execution_count": null,
   "metadata": {},
   "outputs": [],
   "source": []
  }
 ],
 "metadata": {
  "kernelspec": {
   "display_name": "higashi",
   "language": "python",
   "name": "python3"
  },
  "language_info": {
   "codemirror_mode": {
    "name": "ipython",
    "version": 3
   },
   "file_extension": ".py",
   "mimetype": "text/x-python",
   "name": "python",
   "nbconvert_exporter": "python",
   "pygments_lexer": "ipython3",
   "version": "3.9.0"
  }
 },
 "nbformat": 4,
 "nbformat_minor": 2
}
