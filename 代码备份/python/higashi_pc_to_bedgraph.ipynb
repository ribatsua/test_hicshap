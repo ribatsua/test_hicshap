{
 "cells": [
  {
   "cell_type": "code",
   "execution_count": 2,
   "metadata": {},
   "outputs": [
    {
     "name": "stdout",
     "output_type": "stream",
     "text": [
      "  chrom    start      end\n",
      "0  chr1  3000000  3250000\n",
      "1  chr1  3250000  3500000\n",
      "2  chr1  3500000  3750000\n",
      "3  chr1  3750000  4000000\n",
      "4  chr1  4000000  4250000\n",
      "路径 /home/python/higashi/compare_dchic/bed_file/ 已存在。\n",
      "写入完成： CX3\n",
      "路径 /home/python/higashi/compare_dchic/bed_file/ 已存在。\n",
      "写入完成： CX1\n",
      "路径 /home/python/higashi/compare_dchic/bed_file/ 已存在。\n",
      "写入完成： CX2\n"
     ]
    }
   ],
   "source": [
    "import h5py\n",
    "import pandas as pd\n",
    "from tqdm import tqdm\n",
    "import pickle\n",
    "import os\n",
    "# f2=pd.read_csv(\"/home/python/higashi/dataset2/cortex/250k/tmp/csv/compartment_raw_0_1075.csv\",index_col=0)\n",
    "\n",
    "# 打开HDF5文件\n",
    "# file_path = './data/cellcycle250k/tmp/scTAD_cellcycle250k.hdf5'  # HDF5文件路径\n",
    "# file_path = '/home/python/higashi/dataset2/cortex_250k_tmp/root/autodl-tmp/250k/tmp/cortex250k.hdf5'\n",
    "file_path = '/home/python/higashi/dataset2/cortex_250k_tmp/root/autodl-tmp/250k/tmp/ori_bulk_cortex250k.hdf5'\n",
    "f1 = h5py.File(file_path, 'r')  # 使用 'r' 模式打开文件以进行只读操作\n",
    "f1.keys()\n",
    "data = pd.DataFrame()\n",
    "data['chrom'] = [chrom.decode('utf-8') for chrom in f1['compartment_bulk']['bin']['chrom']]\n",
    "data['start'] = f1['compartment_bulk']['bin']['start']\n",
    "data['end'] = f1['compartment_bulk']['bin']['end']\n",
    "\n",
    "# 打印DataFrame的前几行以检查结果\n",
    "print(data.head())\n",
    "\n",
    "# data_dir=\"/home/python/higashi/dcpc/cortex/\"\n",
    "data_dir=\"/home/python/higashi/compare_dchic/bed_file/\"\n",
    "\n",
    "cell_type_info=pickle.load(open('/home/python/higashi/dataset2/cortex/250k/data/label_info.pickle', \"rb\"))\n",
    "cell_type=cell_type_info['cell_type']\n",
    "\n",
    "for j in list(set(cell_type)):\n",
    "    path = data_dir\n",
    "    # 使用os.path.exists()检查路径是否存在\n",
    "    if not os.path.exists(path):\n",
    "        # 如果路径不存在，创建它\n",
    "        os.makedirs(path)\n",
    "        print(f\"路径 {path} 不存在，已创建。\")\n",
    "    else:\n",
    "        print(f\"路径 {path} 已存在。\")\n",
    "    pc1=f1['compartment_bulk'][j][:,0]\n",
    "    # pc2=f1['compartment_bulk'][j][:,1]\n",
    "    # pc3=f1['compartment_bulk'][j][:,2]\n",
    "    df=pd.DataFrame()\n",
    "    df['chr']=data['chrom']\n",
    "    df['start']=data['start']\n",
    "    df['end']=data['end']\n",
    "    df['pc']=pc1\n",
    "    chr_path=data_dir+j+'_ori_bulk.bedGraph'\n",
    "    title = ['# locus chr19:49302001-49304701',\n",
    "              '# refGene encodeRegions', '# zero-based, half-open coords', 'track name='\n",
    "              +'\"'+j + ' ori_PC\" description=\"BedGraph format\" visibility=full color= 234,100,0  altColor= 122,16,180  priority=20 plotType=\"points\"']\n",
    "    with open(chr_path, 'a') as f:\n",
    "        for item in title:\n",
    "            f.write(item+'\\n')\n",
    "    df.to_csv(chr_path, sep='\\t', index=None, header=False, mode='a')\n",
    "    print(\"写入完成：\",j)"
   ]
  }
 ],
 "metadata": {
  "kernelspec": {
   "display_name": "higashi",
   "language": "python",
   "name": "python3"
  },
  "language_info": {
   "codemirror_mode": {
    "name": "ipython",
    "version": 3
   },
   "file_extension": ".py",
   "mimetype": "text/x-python",
   "name": "python",
   "nbconvert_exporter": "python",
   "pygments_lexer": "ipython3",
   "version": "3.9.0"
  }
 },
 "nbformat": 4,
 "nbformat_minor": 2
}
