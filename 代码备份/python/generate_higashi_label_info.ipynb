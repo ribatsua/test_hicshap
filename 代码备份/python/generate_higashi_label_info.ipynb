{
 "cells": [
  {
   "cell_type": "code",
   "execution_count": 3,
   "metadata": {},
   "outputs": [],
   "source": [
    "import pickle\n",
    "import numpy as np\n",
    "len_period1 = 193\n",
    "len_period2 = 343\n",
    "len_period3 = 565\n",
    "len_period4 = 816\n",
    "len_period5 = 947\n",
    "len_period6 = 1075\n",
    "#cortex-p001-cb_250Kb\n",
    "def readpickle(filepath):\n",
    "    with open(filepath, \"rb\") as f:\n",
    "        a = pickle.load(f)\n",
    "    with open('cortex_label_info.pickle', 'a') as f:\n",
    "        f.write(a)\n",
    "def generate_label_info(outpath):\n",
    "    label_info = {}\n",
    "    label_list = []\n",
    "    for i in range(len_period1):\n",
    "        label_list.append('cortex-p001-cb_250Kb')\n",
    "    for i in range(len_period1, len_period2):\n",
    "        label_list.append('cortex-p007-cb_250Kb')\n",
    "    for i in range(len_period2, len_period3):\n",
    "        label_list.append('cortex-p028-cb_250Kb')\n",
    "    for i in range(len_period3, len_period4):\n",
    "        label_list.append('cortex-p056-cb_250Kb')\n",
    "    for i in range(len_period4, len_period5):\n",
    "        label_list.append('cortex-p309-cb_250Kb')\n",
    "    for i in range(len_period5, len_period6):\n",
    "        label_list.append('cortex-p347-cb_250Kb')\n",
    "\n",
    "\n",
    "    label_info['cell_type'] = label_list\n",
    "    with open(outpath, \"wb\") as f:\n",
    "        pickle.dump(label_info, f)\n",
    "\n",
    "\n",
    "generate_label_info('cortex_label_info.pickle')    \n"
   ]
  }
 ],
 "metadata": {
  "kernelspec": {
   "display_name": "higashi",
   "language": "python",
   "name": "python3"
  },
  "language_info": {
   "codemirror_mode": {
    "name": "ipython",
    "version": 3
   },
   "file_extension": ".py",
   "mimetype": "text/x-python",
   "name": "python",
   "nbconvert_exporter": "python",
   "pygments_lexer": "ipython3",
   "version": "3.9.0"
  }
 },
 "nbformat": 4,
 "nbformat_minor": 2
}
