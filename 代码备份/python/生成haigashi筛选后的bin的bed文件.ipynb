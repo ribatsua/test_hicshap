{
 "cells": [
  {
   "cell_type": "code",
   "execution_count": 7,
   "metadata": {},
   "outputs": [
    {
     "name": "stdout",
     "output_type": "stream",
     "text": [
      "bed file written to /home/python/higashi/dataset_hic/dataset2/cortex250k/compartment_raw/label_bed.csv\n",
      "  chrom    start      end\n",
      "0  chr1  3000000  3250000\n",
      "1  chr1  3250000  3500000\n",
      "2  chr1  3500000  3750000\n",
      "3  chr1  3750000  4000000\n",
      "4  chr1  4000000  4250000\n"
     ]
    }
   ],
   "source": [
    "import h5py\n",
    "import pandas as pd\n",
    "from tqdm import tqdm\n",
    "import pickle\n",
    "import numpy as np\n",
    "# f2=pd.read_csv(\"/home/python/higashi/dataset2/cortex/250k/tmp/csv/compartment_raw_0_1075.csv\",index_col=0)\n",
    "\n",
    "# 打开HDF5文件\n",
    "# file_path = './data/cellcycle250k/tmp/scTAD_cellcycle250k.hdf5'  # HDF5文件路径\n",
    "# file_path = '/home/python/higashi/dataset2/cortex/250k/tmp/sc/compartment_raw.h5'\n",
    "# file_path='/home/python/higashi/dataset2/cortex_250k_tmp/root/autodl-tmp/250k/tmp/sc_and_bulk_cortex250k.hdf5'\n",
    "file_path = '/home/python/higashi/dataset_hic/dataset2/cortex250k/sc_and_bulk_compartment_hic.hdf5'\n",
    "f1 = h5py.File(file_path, 'r')  # 使用 'r' 模式打开文件以进行只读操作\n",
    "f1.keys()\n",
    "data = pd.DataFrame()\n",
    "data['chrom'] = [chrom.decode('utf-8') for chrom in f1['compartment_raw']['bin']['chrom']]\n",
    "data['start'] = f1['compartment_raw']['bin']['start']\n",
    "data['end'] = f1['compartment_raw']['bin']['end']\n",
    "\n",
    "df=pd.DataFrame()\n",
    "df['chr']=data['chrom']\n",
    "df['start']=data['start']\n",
    "df['end']=data['end']\n",
    "index_list=np.arange(len(data['chrom']))\n",
    "df['index']=index_list\n",
    "bed_path = '/home/python/higashi/dataset_hic/dataset2/cortex250k/compartment_raw/label_bed.csv'\n",
    "\n",
    "# df.to_csv(bed_path, sep='\\t', index=None, header=True, mode='w')\n",
    "df.to_csv(bed_path,index=None, header=True, mode='w')\n",
    "print(f\"bed file written to {bed_path}\")\n",
    "# 打印DataFrame的前几行以检查结果\n",
    "print(data.head())"
   ]
  },
  {
   "cell_type": "code",
   "execution_count": 4,
   "metadata": {},
   "outputs": [
    {
     "data": {
      "text/plain": [
       "array([0, 1, 2, 3, 4, 5, 6, 7, 8, 9])"
      ]
     },
     "execution_count": 4,
     "metadata": {},
     "output_type": "execute_result"
    }
   ],
   "source": [
    "import numpy as np\n",
    "a=np.arange(10)\n",
    "\n",
    "a"
   ]
  },
  {
   "cell_type": "code",
   "execution_count": 5,
   "metadata": {},
   "outputs": [
    {
     "data": {
      "text/plain": [
       "9526"
      ]
     },
     "execution_count": 5,
     "metadata": {},
     "output_type": "execute_result"
    }
   ],
   "source": [
    "len(data['chrom'])"
   ]
  }
 ],
 "metadata": {
  "kernelspec": {
   "display_name": "higashi",
   "language": "python",
   "name": "python3"
  },
  "language_info": {
   "codemirror_mode": {
    "name": "ipython",
    "version": 3
   },
   "file_extension": ".py",
   "mimetype": "text/x-python",
   "name": "python",
   "nbconvert_exporter": "python",
   "pygments_lexer": "ipython3",
   "version": "3.9.0"
  }
 },
 "nbformat": 4,
 "nbformat_minor": 2
}
