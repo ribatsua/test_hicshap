{
 "cells": [
  {
   "cell_type": "code",
   "execution_count": 6,
   "metadata": {},
   "outputs": [
    {
     "name": "stdout",
     "output_type": "stream",
     "text": [
      "bed file written to /home/python/higashi/dcpc/from_hicfile_cortex50k_mat/Data/mm10_50k_abs.bed\n"
     ]
    }
   ],
   "source": [
    "import numpy as np\n",
    "import math\n",
    "import pandas as pd\n",
    "import os\n",
    "\n",
    "res = 50000\n",
    "data_dir = '/home/python/higashi/dcpc/from_hicfile_cortex50k_mat/Data'\n",
    "file_path = '/home/python/higashi/dataset2/cortex/config/mm10.chrom.sizes.txt' \n",
    "chrom_list = [\"chr1\",\"chr2\",\"chr3\",\"chr4\",\"chr5\",\n",
    "    \"chr6\",\"chr7\",\"chr8\",\"chr9\",\"chr10\",\n",
    "    \"chr11\",\"chr12\",\"chr13\",\"chr14\",\"chr15\",\n",
    "    \"chr16\",\"chr17\",\"chr18\",\"chr19\"]\n",
    "chrom_list = np.array(chrom_list)\n",
    "\n",
    "with open(file_path, 'r') as file:\n",
    "    lines = file.readlines()\n",
    "chromosome_bins = {}\n",
    "max_lens = {}\n",
    "# 特定分辨率\n",
    "resolution = res # \n",
    "# 遍历文件中的每一行\n",
    "for line in lines:\n",
    "    # 分割每一行的染色体和对应的长度\n",
    "    chromosome, length = line.strip().split('\\t')\n",
    "    \n",
    "    # 计算染色体对应的bin数量\n",
    "    # bin_count = int(length) // resolution\n",
    "    bin_count = math.ceil(int(length) / resolution)\n",
    "    \n",
    "    # 存储结果到字典中\n",
    "    chromosome_bins[chromosome] = bin_count\n",
    "    max_lens[chromosome] = int(length)\n",
    "bin_chrom_list = []\n",
    "bin_start_list = []\n",
    "bin_end_list = []\n",
    "for chrom in chrom_list:\n",
    "    bin_count = chromosome_bins[chrom]\n",
    "    bin_chrom_list+=[chrom]*bin_count\n",
    "    bin_start_list.extend((np.arange(bin_count) * res))\n",
    "    end=(np.arange(bin_count) + 1) * res\n",
    "    # print(len(end))\n",
    "    max_len=max_lens[chrom]\n",
    "    end[bin_count-1]=max_len\n",
    "    # bin_end_list.extend(((np.arange(bin_count) + 1) * res))\n",
    "    bin_end_list.extend(end)\n",
    "    # print (chrom, \"finished\")\n",
    "    # print(chrom)\n",
    "    # print(bin_count)\n",
    "index_list=np.arange(1,len(bin_chrom_list)+1)\n",
    "df=pd.DataFrame()\n",
    "df['chr']=bin_chrom_list\n",
    "df['start']=bin_start_list\n",
    "df['end']=bin_end_list\n",
    "df['index']=index_list\n",
    "bed_path=os.path.join(data_dir,'mm10_50k_abs.bed' )\n",
    "df.to_csv(bed_path, sep='\\t', index=None, header=True, mode='w')\n",
    "print(f\"bed file written to {bed_path}\")"
   ]
  },
  {
   "cell_type": "code",
   "execution_count": null,
   "metadata": {},
   "outputs": [],
   "source": []
  }
 ],
 "metadata": {
  "kernelspec": {
   "display_name": "higashi",
   "language": "python",
   "name": "python3"
  },
  "language_info": {
   "codemirror_mode": {
    "name": "ipython",
    "version": 3
   },
   "file_extension": ".py",
   "mimetype": "text/x-python",
   "name": "python",
   "nbconvert_exporter": "python",
   "pygments_lexer": "ipython3",
   "version": "3.9.0"
  }
 },
 "nbformat": 4,
 "nbformat_minor": 2
}
