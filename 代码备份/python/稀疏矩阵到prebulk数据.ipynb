{
 "cells": [
  {
   "cell_type": "code",
   "execution_count": 2,
   "metadata": {},
   "outputs": [],
   "source": [
    "############################################################\n",
    "####\n",
    "#####由原始的稀疏矩阵生成prebulk数据及bed文件作为dchic的输入\n",
    "#####\n",
    "##########################################################\n",
    "#############################################################\n",
    "#############################################################\n",
    "##################################################################\n",
    "##################################################################\n",
    "import os\n",
    "import numpy as np\n",
    "import pandas as pd\n",
    "import scipy.sparse\n",
    "import math\n",
    "\n",
    "from tqdm import tqdm\n",
    "\n",
    "\n",
    "################从基因组参考文件计算一定分辨率下各染色体bin的数量\n",
    "def create_bed(res):\n",
    "\n",
    "    file_path = '/home/python/higashi/cellcycle/250k/config/mm9.chrom.sizes.txt'  \n",
    "    with open(file_path, 'r') as file:\n",
    "        lines = file.readlines()\n",
    "    chromosome_bins = {}\n",
    "    max_lens = {}\n",
    "    # 特定分辨率\n",
    "    resolution = res # 请替换成你的分辨率\n",
    "    # 遍历文件中的每一行\n",
    "    for line in lines:\n",
    "        # 分割每一行的染色体和对应的长度\n",
    "        chromosome, length = line.strip().split('\\t')\n",
    "        \n",
    "        # 计算染色体对应的bin数量\n",
    "        # bin_count = int(length) // resolution\n",
    "        bin_count = math.ceil(int(length) / resolution)\n",
    "        \n",
    "        # 存储结果到字典中\n",
    "        chromosome_bins[chromosome] = bin_count\n",
    "        max_lens[chromosome] = int(length)\n",
    "    # bin_chrom_list = []\n",
    "    # bin_start_list = []\n",
    "    # bin_end_list = []\n",
    "    # for chrom in chromosome_bins:\n",
    "    #     bin_count = chromosome_bins[chrom]\n",
    "    #     bin_chrom_list+=[chrom]*bin_count\n",
    "    #     bin_start_list.extend((np.arange(bin_count) * res))\n",
    "    #     end=(np.arange(bin_count) + 1) * res\n",
    "    #     # print(len(end))\n",
    "    #     max_len=max_lens[chrom]\n",
    "    #     end[bin_count-1]=max_len\n",
    "    #     # bin_end_list.extend(((np.arange(bin_count) + 1) * res))\n",
    "    #     bin_end_list.extend(end)\n",
    "    #     # print (chrom, \"finished\")\n",
    "    #     # print(chrom)\n",
    "    #     # print(bin_count)\n",
    "    # index_list=np.arange(1,len(bin_chrom_list)+1)\n",
    "    # df=pd.DataFrame()\n",
    "    # df['chr']=bin_chrom_list\n",
    "    # df['start']=bin_start_list\n",
    "    # df['end']=bin_end_list\n",
    "    # df['index']=index_list\n",
    "    # # bed_path='test_bed.bed'\n",
    "    # bed_path=os.path.join(bed_dir, 'test.bed')\n",
    "    # df.to_csv(bed_path, sep='\\t', index=None, header=False, mode='w')\n",
    "    # print(f\"bed file written to {bed_path}\")\n",
    "    return chromosome_bins\n",
    "\n",
    "\n",
    "def process_chrom(chrom,cell_type):\n",
    "# Get the raw sparse mtx list\n",
    "    origin_sparse = np.load(os.path.join(temp_dir, \"%s_sparse_matrices.npy\" % chrom), allow_pickle=True)\n",
    "    size = origin_sparse[0].shape[0]\n",
    "    pre_bulk_list=[]\n",
    "    # sum_by_label=[]\n",
    "    a={}\n",
    "    b={}\n",
    "    # c={}\n",
    "    for j in list(set(cell_type)):\n",
    "        # print(j)\n",
    "        indices = [index for index, value in enumerate(cell_type) if value == j]\n",
    "        a[j]=indices\n",
    "        b[j] = np.zeros_like(np.array(origin_sparse[0]))\n",
    "        for i in tqdm(a[j]):\n",
    "            proba = np.array(origin_sparse[i])    \n",
    "            b[j] +=proba\n",
    "        temp = np.array(b[j].item().todense())\n",
    "        temp=scipy.sparse.csr_matrix(temp)\n",
    "            # temp = b[j]\n",
    "        pre_bulk_list.append(temp)\n",
    "    return pre_bulk_list\n",
    "\n",
    "\n",
    "\n"
   ]
  },
  {
   "cell_type": "code",
   "execution_count": 3,
   "metadata": {},
   "outputs": [
    {
     "name": "stdout",
     "output_type": "stream",
     "text": [
      "目录 '/home/python/higashi/dcpc/cellcycle250k/Data' 已存在.\n",
      "chrom_list: ['chr1' 'chr2' 'chr3' 'chr4' 'chr5' 'chr6' 'chr7' 'chr8' 'chr9' 'chr10'\n",
      " 'chr11' 'chr12' 'chr13' 'chr14' 'chr15' 'chr16' 'chr17' 'chr18' 'chr19']\n"
     ]
    },
    {
     "name": "stderr",
     "output_type": "stream",
     "text": [
      "100%|██████████| 326/326 [00:00<00:00, 928.43it/s] \n",
      "100%|██████████| 262/262 [00:00<00:00, 1156.53it/s]\n",
      "100%|██████████| 280/280 [00:00<00:00, 951.79it/s] \n",
      "100%|██████████| 303/303 [00:00<00:00, 1027.53it/s]\n"
     ]
    },
    {
     "name": "stdout",
     "output_type": "stream",
     "text": [
      "chr1 finished\n"
     ]
    },
    {
     "name": "stderr",
     "output_type": "stream",
     "text": [
      "100%|██████████| 326/326 [00:00<00:00, 1151.59it/s]\n",
      "100%|██████████| 262/262 [00:00<00:00, 1287.63it/s]\n",
      "100%|██████████| 280/280 [00:00<00:00, 1053.78it/s]\n",
      "100%|██████████| 303/303 [00:00<00:00, 1168.84it/s]\n"
     ]
    },
    {
     "name": "stdout",
     "output_type": "stream",
     "text": [
      "chr2 finished\n"
     ]
    },
    {
     "name": "stderr",
     "output_type": "stream",
     "text": [
      "100%|██████████| 326/326 [00:00<00:00, 1283.85it/s]\n",
      "100%|██████████| 262/262 [00:00<00:00, 1410.95it/s]\n",
      "100%|██████████| 280/280 [00:00<00:00, 1186.00it/s]\n",
      "100%|██████████| 303/303 [00:00<00:00, 1294.51it/s]\n"
     ]
    },
    {
     "name": "stdout",
     "output_type": "stream",
     "text": [
      "chr3 finished\n"
     ]
    },
    {
     "name": "stderr",
     "output_type": "stream",
     "text": [
      "100%|██████████| 326/326 [00:00<00:00, 1355.96it/s]\n",
      "100%|██████████| 262/262 [00:00<00:00, 1512.63it/s]\n",
      "100%|██████████| 280/280 [00:00<00:00, 1297.73it/s]\n",
      "100%|██████████| 303/303 [00:00<00:00, 1397.24it/s]\n"
     ]
    },
    {
     "name": "stdout",
     "output_type": "stream",
     "text": [
      "chr4 finished\n"
     ]
    },
    {
     "name": "stderr",
     "output_type": "stream",
     "text": [
      "100%|██████████| 326/326 [00:00<00:00, 1348.27it/s]\n",
      "100%|██████████| 262/262 [00:00<00:00, 1471.10it/s]\n",
      "100%|██████████| 280/280 [00:00<00:00, 1247.80it/s]\n",
      "100%|██████████| 303/303 [00:00<00:00, 1376.45it/s]\n"
     ]
    },
    {
     "name": "stdout",
     "output_type": "stream",
     "text": [
      "chr5 finished\n"
     ]
    },
    {
     "name": "stderr",
     "output_type": "stream",
     "text": [
      "100%|██████████| 326/326 [00:00<00:00, 1356.90it/s]\n",
      "100%|██████████| 262/262 [00:00<00:00, 1460.60it/s]\n",
      "100%|██████████| 280/280 [00:00<00:00, 1261.32it/s]\n",
      "100%|██████████| 303/303 [00:00<00:00, 1375.54it/s]\n"
     ]
    },
    {
     "name": "stdout",
     "output_type": "stream",
     "text": [
      "chr6 finished\n"
     ]
    },
    {
     "name": "stderr",
     "output_type": "stream",
     "text": [
      "100%|██████████| 326/326 [00:00<00:00, 1508.43it/s]\n",
      "100%|██████████| 262/262 [00:00<00:00, 1605.30it/s]\n",
      "100%|██████████| 280/280 [00:00<00:00, 1388.34it/s]\n",
      "100%|██████████| 303/303 [00:00<00:00, 1522.02it/s]\n"
     ]
    },
    {
     "name": "stdout",
     "output_type": "stream",
     "text": [
      "chr7 finished\n"
     ]
    },
    {
     "name": "stderr",
     "output_type": "stream",
     "text": [
      "100%|██████████| 326/326 [00:00<00:00, 1529.81it/s]\n",
      "100%|██████████| 262/262 [00:00<00:00, 1625.25it/s]\n",
      "100%|██████████| 280/280 [00:00<00:00, 1394.94it/s]\n",
      "100%|██████████| 303/303 [00:00<00:00, 1499.52it/s]\n"
     ]
    },
    {
     "name": "stdout",
     "output_type": "stream",
     "text": [
      "chr8 finished\n"
     ]
    },
    {
     "name": "stderr",
     "output_type": "stream",
     "text": [
      "100%|██████████| 326/326 [00:00<00:00, 1563.80it/s]\n",
      "100%|██████████| 262/262 [00:00<00:00, 1694.28it/s]\n",
      "100%|██████████| 280/280 [00:00<00:00, 1451.95it/s]\n",
      "100%|██████████| 303/303 [00:00<00:00, 1653.82it/s]\n"
     ]
    },
    {
     "name": "stdout",
     "output_type": "stream",
     "text": [
      "chr9 finished\n"
     ]
    },
    {
     "name": "stderr",
     "output_type": "stream",
     "text": [
      "100%|██████████| 326/326 [00:00<00:00, 1518.06it/s]\n",
      "100%|██████████| 262/262 [00:00<00:00, 1644.80it/s]\n",
      "100%|██████████| 280/280 [00:00<00:00, 1398.72it/s]\n",
      "100%|██████████| 303/303 [00:00<00:00, 1554.08it/s]\n"
     ]
    },
    {
     "name": "stdout",
     "output_type": "stream",
     "text": [
      "chr10 finished\n"
     ]
    },
    {
     "name": "stderr",
     "output_type": "stream",
     "text": [
      "100%|██████████| 326/326 [00:00<00:00, 1616.33it/s]\n",
      "100%|██████████| 262/262 [00:00<00:00, 1706.06it/s]\n",
      "100%|██████████| 280/280 [00:00<00:00, 1514.64it/s]\n",
      "100%|██████████| 303/303 [00:00<00:00, 1662.88it/s]\n"
     ]
    },
    {
     "name": "stdout",
     "output_type": "stream",
     "text": [
      "chr11 finished\n"
     ]
    },
    {
     "name": "stderr",
     "output_type": "stream",
     "text": [
      "100%|██████████| 326/326 [00:00<00:00, 1703.06it/s]\n",
      "100%|██████████| 262/262 [00:00<00:00, 1809.04it/s]\n",
      "100%|██████████| 280/280 [00:00<00:00, 1513.95it/s]\n",
      "100%|██████████| 303/303 [00:00<00:00, 1663.18it/s]\n"
     ]
    },
    {
     "name": "stdout",
     "output_type": "stream",
     "text": [
      "chr12 finished\n"
     ]
    },
    {
     "name": "stderr",
     "output_type": "stream",
     "text": [
      "100%|██████████| 326/326 [00:00<00:00, 1708.75it/s]\n",
      "100%|██████████| 262/262 [00:00<00:00, 1793.87it/s]\n",
      "100%|██████████| 280/280 [00:00<00:00, 1585.87it/s]\n",
      "100%|██████████| 303/303 [00:00<00:00, 1693.08it/s]\n"
     ]
    },
    {
     "name": "stdout",
     "output_type": "stream",
     "text": [
      "chr13 finished\n"
     ]
    },
    {
     "name": "stderr",
     "output_type": "stream",
     "text": [
      "100%|██████████| 326/326 [00:00<00:00, 1692.51it/s]\n",
      "100%|██████████| 262/262 [00:00<00:00, 1785.67it/s]\n",
      "100%|██████████| 280/280 [00:00<00:00, 1604.86it/s]\n",
      "100%|██████████| 303/303 [00:00<00:00, 1687.64it/s]\n"
     ]
    },
    {
     "name": "stdout",
     "output_type": "stream",
     "text": [
      "chr14 finished\n"
     ]
    },
    {
     "name": "stderr",
     "output_type": "stream",
     "text": [
      "100%|██████████| 326/326 [00:00<00:00, 1760.67it/s]\n",
      "100%|██████████| 262/262 [00:00<00:00, 1930.69it/s]\n",
      "100%|██████████| 280/280 [00:00<00:00, 1668.87it/s]\n",
      "100%|██████████| 303/303 [00:00<00:00, 1857.63it/s]\n"
     ]
    },
    {
     "name": "stdout",
     "output_type": "stream",
     "text": [
      "chr15 finished\n"
     ]
    },
    {
     "name": "stderr",
     "output_type": "stream",
     "text": [
      "100%|██████████| 326/326 [00:00<00:00, 1908.65it/s]\n",
      "100%|██████████| 262/262 [00:00<00:00, 2043.01it/s]\n",
      "100%|██████████| 280/280 [00:00<00:00, 1786.12it/s]\n",
      "100%|██████████| 303/303 [00:00<00:00, 1886.27it/s]\n"
     ]
    },
    {
     "name": "stdout",
     "output_type": "stream",
     "text": [
      "chr16 finished\n"
     ]
    },
    {
     "name": "stderr",
     "output_type": "stream",
     "text": [
      "100%|██████████| 326/326 [00:00<00:00, 2042.28it/s]\n",
      "100%|██████████| 262/262 [00:00<00:00, 2186.85it/s]\n",
      "100%|██████████| 280/280 [00:00<00:00, 1978.55it/s]\n",
      "100%|██████████| 303/303 [00:00<00:00, 2138.25it/s]\n"
     ]
    },
    {
     "name": "stdout",
     "output_type": "stream",
     "text": [
      "chr17 finished\n"
     ]
    },
    {
     "name": "stderr",
     "output_type": "stream",
     "text": [
      "100%|██████████| 326/326 [00:00<00:00, 1935.45it/s]\n",
      "100%|██████████| 262/262 [00:00<00:00, 2075.38it/s]\n",
      "100%|██████████| 280/280 [00:00<00:00, 1873.16it/s]\n",
      "100%|██████████| 303/303 [00:00<00:00, 1987.59it/s]\n"
     ]
    },
    {
     "name": "stdout",
     "output_type": "stream",
     "text": [
      "chr18 finished\n"
     ]
    },
    {
     "name": "stderr",
     "output_type": "stream",
     "text": [
      "100%|██████████| 326/326 [00:00<00:00, 2546.85it/s]\n",
      "100%|██████████| 262/262 [00:00<00:00, 2779.81it/s]\n",
      "100%|██████████| 280/280 [00:00<00:00, 2509.19it/s]\n",
      "100%|██████████| 303/303 [00:00<00:00, 2719.54it/s]\n"
     ]
    },
    {
     "name": "stdout",
     "output_type": "stream",
     "text": [
      "chr19 finished\n"
     ]
    },
    {
     "name": "stderr",
     "output_type": "stream",
     "text": [
      " 25%|██▌       | 1/4 [00:09<00:27,  9.03s/it]"
     ]
    },
    {
     "name": "stdout",
     "output_type": "stream",
     "text": [
      "Data written to /home/python/higashi/dcpc/cellcycle250k/1CDX4.matrix\n"
     ]
    },
    {
     "name": "stderr",
     "output_type": "stream",
     "text": [
      " 50%|█████     | 2/4 [00:17<00:17,  8.77s/it]"
     ]
    },
    {
     "name": "stdout",
     "output_type": "stream",
     "text": [
      "Data written to /home/python/higashi/dcpc/cellcycle250k/1CDX3.matrix\n"
     ]
    },
    {
     "name": "stderr",
     "output_type": "stream",
     "text": [
      " 75%|███████▌  | 3/4 [00:28<00:09,  9.61s/it]"
     ]
    },
    {
     "name": "stdout",
     "output_type": "stream",
     "text": [
      "Data written to /home/python/higashi/dcpc/cellcycle250k/1CDX1.matrix\n"
     ]
    },
    {
     "name": "stderr",
     "output_type": "stream",
     "text": [
      "100%|██████████| 4/4 [00:37<00:00,  9.42s/it]"
     ]
    },
    {
     "name": "stdout",
     "output_type": "stream",
     "text": [
      "Data written to /home/python/higashi/dcpc/cellcycle250k/1CDX2.matrix\n"
     ]
    },
    {
     "name": "stderr",
     "output_type": "stream",
     "text": [
      "\n"
     ]
    }
   ],
   "source": [
    "\n",
    "import pickle\n",
    "res=250000\n",
    "temp_dir='/home/python/higashi/cellcycle/250k/raw'\n",
    "output_dir='/home/python/higashi/dcpc/cellcycle250k'\n",
    "bed_dir='/home/python/higashi/dcpc/cellcycle250k/Data'\n",
    "if not os.path.exists(bed_dir):\n",
    "    # 如果路径不存在，创建路径\n",
    "    os.makedirs(bed_dir)\n",
    "    print(f\"目录 '{bed_dir}' 已创建.\")\n",
    "else:\n",
    "    print(f\"目录 '{bed_dir}' 已存在.\")\n",
    "chrom_list = [\"chr1\",\"chr2\",\"chr3\",\"chr4\",\"chr5\",\n",
    "    \"chr6\",\"chr7\",\"chr8\",\"chr9\",\"chr10\",\n",
    "    \"chr11\",\"chr12\",\"chr13\",\"chr14\",\"chr15\",\n",
    "    \"chr16\",\"chr17\",\"chr18\",\"chr19\"]\n",
    "\n",
    "# chrom_list = ['chr1', 'chr2']\n",
    "\n",
    "chrom_list = np.array(chrom_list)\n",
    "print('chrom_list:',chrom_list)\n",
    "# with open('matrix_values.txt', 'w') as file:\n",
    "# cell_type_info=pickle.load(open(os.path.join(data_dir, \"label_info.pickle\"), \"rb\"))\n",
    "#使用重复样本标签\n",
    "\n",
    "cell_type_info=pickle.load(open('/home/python/higashi/cellcycle/250k/config/label_info.pickle', \"rb\"))\n",
    "\n",
    "\n",
    "cell_type=cell_type_info['cell_type']\n",
    "cell_type_list=[]\n",
    "chromosome_bins=create_bed(res)\n",
    "for j in list(set(cell_type)):\n",
    "    cell_type_list.append(j)\n",
    "bin_count=0\n",
    "pre_bulk_raw=[]\n",
    "for chrom in chrom_list:\n",
    "    pre_bulk_list=process_chrom(chrom,cell_type)\n",
    "    print (chrom, \"finished\")\n",
    "    pre_bulk_list_unzip=[]\n",
    "    for bulk in pre_bulk_list:\n",
    "        rows, cols, values = scipy.sparse.find(bulk)\n",
    "        rows+=bin_count\n",
    "        cols+=bin_count\n",
    "        pre_bulk_list_unzip.append([cols,rows,values])\n",
    "    bin_count += chromosome_bins[chrom] \n",
    "    pre_bulk_raw.append(pre_bulk_list_unzip)\n",
    "temp_bulk ={}\n",
    "for i in tqdm(range(len(pre_bulk_raw[0]))):\n",
    "    sample_name=cell_type_list[i]+'.matrix'\n",
    "    save_path=os.path.join(output_dir, sample_name)\n",
    "    # save_path=cell_type_list[i]+'_prebulk_mat.txt'   \n",
    "    temp_bulk[i]=[]\n",
    "    for j in range(len(pre_bulk_raw)):\n",
    "        # print('j,i',j,i)\n",
    "        temp_bulk[i].append(pre_bulk_raw[j][i])\n",
    "    temp_bulk[i]=np.column_stack([np.vstack(group) for group in temp_bulk[i]])\n",
    "    np.savetxt(save_path, temp_bulk[i].T, delimiter='\\t', fmt='%d')\n",
    "    print(f\"Data written to {save_path}\")"
   ]
  },
  {
   "cell_type": "code",
   "execution_count": 22,
   "metadata": {},
   "outputs": [
    {
     "data": {
      "text/plain": [
       "(789, 789)"
      ]
     },
     "execution_count": 22,
     "metadata": {},
     "output_type": "execute_result"
    }
   ],
   "source": [
    "origin_sparse = np.load('/home/python/higashi/cellcycle/250k/raw/chr1_sparse_matrices.npy', allow_pickle=True)\n",
    "origin_sparse[16].shape"
   ]
  },
  {
   "cell_type": "code",
   "execution_count": 13,
   "metadata": {},
   "outputs": [
    {
     "data": {
      "text/plain": [
       "()"
      ]
     },
     "execution_count": 13,
     "metadata": {},
     "output_type": "execute_result"
    }
   ],
   "source": [
    "b= np.zeros_like(np.array(origin_sparse[0]))\n",
    "b.shape"
   ]
  },
  {
   "cell_type": "code",
   "execution_count": 23,
   "metadata": {},
   "outputs": [
    {
     "data": {
      "text/plain": [
       "[(789, 789)]"
      ]
     },
     "execution_count": 23,
     "metadata": {},
     "output_type": "execute_result"
    }
   ],
   "source": [
    "c=[]\n",
    "for i in range(1075):\n",
    "    c.append(origin_sparse[i].shape)\n",
    "list(set(c))"
   ]
  },
  {
   "cell_type": "code",
   "execution_count": 21,
   "metadata": {},
   "outputs": [
    {
     "name": "stdout",
     "output_type": "stream",
     "text": [
      "chr1\n",
      "197195432 789\n",
      "chr2\n",
      "181748087 727\n",
      "chr3\n",
      "159599783 639\n",
      "chr4\n",
      "155630120 623\n",
      "chr5\n",
      "152537259 611\n",
      "chr6\n",
      "149517037 599\n",
      "chr7\n",
      "152524553 611\n",
      "chr8\n",
      "131738871 527\n",
      "chr9\n",
      "124076172 497\n",
      "chr10\n",
      "129993255 520\n",
      "chr11\n",
      "121843856 488\n",
      "chr12\n",
      "121257530 486\n",
      "chr13\n",
      "120284312 482\n",
      "chr14\n",
      "125194864 501\n",
      "chr15\n",
      "103494974 414\n",
      "chr16\n",
      "98319150 394\n",
      "chr17\n",
      "95272651 382\n",
      "chr18\n",
      "90772031 364\n",
      "chr19\n",
      "61342430 246\n",
      "chrX\n",
      "166650296 667\n",
      "chrY\n",
      "15902555 64\n",
      "chrM\n",
      "16299 1\n",
      "chr13_random\n",
      "400311 2\n",
      "chr16_random\n",
      "3994 1\n",
      "chr17_random\n",
      "628739 3\n",
      "chr1_random\n",
      "1231697 5\n",
      "chr3_random\n",
      "41899 1\n",
      "chr4_random\n",
      "160594 1\n",
      "chr5_random\n",
      "357350 2\n",
      "chr7_random\n",
      "362490 2\n",
      "chr8_random\n",
      "849593 4\n",
      "chr9_random\n",
      "449403 2\n",
      "chrUn_random\n",
      "5900358 24\n",
      "chrX_random\n",
      "1785075 8\n",
      "chrY_random\n",
      "58682461 235\n",
      "{'chr1': 197195432, 'chr2': 181748087, 'chr3': 159599783, 'chr4': 155630120, 'chr5': 152537259, 'chr6': 149517037, 'chr7': 152524553, 'chr8': 131738871, 'chr9': 124076172, 'chr10': 129993255, 'chr11': 121843856, 'chr12': 121257530, 'chr13': 120284312, 'chr14': 125194864, 'chr15': 103494974, 'chr16': 98319150, 'chr17': 95272651, 'chr18': 90772031, 'chr19': 61342430, 'chrX': 166650296, 'chrY': 15902555, 'chrM': 16299, 'chr13_random': 400311, 'chr16_random': 3994, 'chr17_random': 628739, 'chr1_random': 1231697, 'chr3_random': 41899, 'chr4_random': 160594, 'chr5_random': 357350, 'chr7_random': 362490, 'chr8_random': 849593, 'chr9_random': 449403, 'chrUn_random': 5900358, 'chrX_random': 1785075, 'chrY_random': 58682461}\n"
     ]
    }
   ],
   "source": [
    "file_path = '/home/python/higashi/cellcycle/250k/config/mm9.chrom.sizes.txt' \n",
    "chrom_list = [\"chr1\",\"chr2\",\"chr3\",\"chr4\",\"chr5\",\n",
    "    \"chr6\",\"chr7\",\"chr8\",\"chr9\",\"chr10\",\n",
    "    \"chr11\",\"chr12\",\"chr13\",\"chr14\",\"chr15\",\n",
    "    \"chr16\",\"chr17\",\"chr18\",\"chr19\"]\n",
    "\n",
    "# chrom_list = ['chr1', 'chr2']\n",
    "\n",
    "chrom_list = np.array(chrom_list)\n",
    "with open(file_path, 'r') as file:\n",
    "    lines = file.readlines()\n",
    "chromosome_bins = {}\n",
    "max_lens = {}\n",
    "# 特定分辨率\n",
    "resolution = res # 请替换成你的分辨率\n",
    "# 遍历文件中的每一行\n",
    "for line in lines:\n",
    "    # 分割每一行的染色体和对应的长度\n",
    "    chromosome, length = line.strip().split('\\t')\n",
    "    \n",
    "    # 计算染色体对应的bin数量\n",
    "    # bin_count = int(length) // resolution\n",
    "    bin_count = math.ceil(int(length) / resolution)\n",
    "    \n",
    "    # 存储结果到字典中\n",
    "    chromosome_bins[chromosome] = bin_count\n",
    "    max_lens[chromosome] = int(length)\n",
    "bin_chrom_list = []\n",
    "bin_start_list = []\n",
    "bin_end_list = []\n",
    "for chrom in chromosome_bins:\n",
    "    print(chrom)\n",
    "    bin_count = chromosome_bins[chrom]\n",
    "    bin_chrom_list+=[chrom]*bin_count\n",
    "    bin_start_list.extend((np.arange(bin_count) * res))\n",
    "    end=(np.arange(bin_count) + 1) * res\n",
    "    # print(len(end))\n",
    "    max_len=max_lens[chrom]\n",
    "    print(max_lens[chrom],bin_count)\n",
    "    end[bin_count-1]=max_len\n",
    "    # bin_end_list.extend(((np.arange(bin_count) + 1) * res))\n",
    "    bin_end_list.extend(end)\n",
    "print(max_lens)\n"
   ]
  },
  {
   "cell_type": "code",
   "execution_count": null,
   "metadata": {},
   "outputs": [],
   "source": []
  }
 ],
 "metadata": {
  "kernelspec": {
   "display_name": "higashi",
   "language": "python",
   "name": "python3"
  },
  "language_info": {
   "codemirror_mode": {
    "name": "ipython",
    "version": 3
   },
   "file_extension": ".py",
   "mimetype": "text/x-python",
   "name": "python",
   "nbconvert_exporter": "python",
   "pygments_lexer": "ipython3",
   "version": "3.9.0"
  }
 },
 "nbformat": 4,
 "nbformat_minor": 2
}
